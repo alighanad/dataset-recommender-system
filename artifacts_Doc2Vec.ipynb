{
  "cells": [
    {
      "cell_type": "markdown",
      "metadata": {
        "id": "view-in-github",
        "colab_type": "text"
      },
      "source": [
        "<a href=\"https://colab.research.google.com/github/morarez/dataset-recommender-system/blob/main/artifacts_Doc2Vec.ipynb\" target=\"_parent\"><img src=\"https://colab.research.google.com/assets/colab-badge.svg\" alt=\"Open In Colab\"/></a>"
      ]
    },
    {
      "cell_type": "code",
      "execution_count": null,
      "metadata": {
        "colab": {
          "base_uri": "https://localhost:8080/"
        },
        "id": "jCY17jwv7D37",
        "outputId": "86c8caee-3d7a-47fa-cebb-25f74c04de1f"
      },
      "outputs": [
        {
          "output_type": "stream",
          "name": "stdout",
          "text": [
            "Mounted at /content/gdrive\n"
          ]
        }
      ],
      "source": [
        "from google.colab import drive\n",
        "drive.mount(\"/content/gdrive\", force_remount=True)\n",
        "import pandas as pd\n",
        "import numpy as np\n",
        "from gensim import models"
      ]
    },
    {
      "cell_type": "code",
      "execution_count": null,
      "metadata": {
        "id": "YE2yc0MWNXcO"
      },
      "outputs": [],
      "source": [
        "#df = pd.read_json(\"/content/gdrive/MyDrive/Recommendation_Systems_Activities/TPDL2022/Data/data_with_relations_v1/relations.json\",lines=True)\n",
        "#df = pd.read_json(\"/content/gdrive/MyDrive/Recommendation_Systems_Activities/TPDL2022/Data/data_with_relations_v1/cleaned_concat_result.json\")\n",
        "#df = pd.read_json('/content/gdrive/MyDrive/Recommendation_Systems_Activities/Journal/Data/Metadata_21june/metadata_v3.json')\n",
        "\n",
        "df = pd.read_json('/content/gdrive/MyDrive/Recommendation_Systems_Activities/Journal/Data/ni_3900/metadata_ni_3900.json', orient='index')"
      ]
    },
    {
      "cell_type": "code",
      "execution_count": null,
      "metadata": {
        "id": "XauE73JzgRYe"
      },
      "outputs": [],
      "source": [
        "df.reset_index(drop=True, inplace=True)\n",
        "#df"
      ]
    },
    {
      "cell_type": "code",
      "execution_count": null,
      "metadata": {
        "id": "TTug2I2N85Ub"
      },
      "outputs": [],
      "source": [
        "df[\"text\"] = df[\"en_abstract\"] + \" \" +  df['en_title']  "
      ]
    },
    {
      "cell_type": "markdown",
      "metadata": {
        "id": "QFotztbH-Yzx"
      },
      "source": [
        "## Pre-processing"
      ]
    },
    {
      "cell_type": "code",
      "execution_count": null,
      "metadata": {
        "colab": {
          "base_uri": "https://localhost:8080/"
        },
        "id": "Xa93Q5P2-h0t",
        "outputId": "246b0555-9fd4-4d66-acce-3d58871ff2a5"
      },
      "outputs": [
        {
          "output_type": "stream",
          "name": "stderr",
          "text": [
            "[nltk_data] Downloading package stopwords to /root/nltk_data...\n",
            "[nltk_data]   Unzipping corpora/stopwords.zip.\n",
            "[nltk_data] Downloading package wordnet to /root/nltk_data...\n",
            "[nltk_data] Downloading package omw-1.4 to /root/nltk_data...\n"
          ]
        },
        {
          "output_type": "execute_result",
          "data": {
            "text/plain": [
              "True"
            ]
          },
          "metadata": {},
          "execution_count": 5
        }
      ],
      "source": [
        "import nltk\n",
        "nltk.download('stopwords')\n",
        "nltk.download('wordnet')\n",
        "nltk.download('omw-1.4')"
      ]
    },
    {
      "cell_type": "code",
      "execution_count": null,
      "metadata": {
        "id": "RXGe1vZP-Umc"
      },
      "outputs": [],
      "source": [
        "from nltk.tokenize import RegexpTokenizer\n",
        "from nltk.stem import WordNetLemmatizer,PorterStemmer\n",
        "from nltk.corpus import stopwords\n",
        "import re\n",
        "lemmatizer = WordNetLemmatizer()\n",
        "stemmer = PorterStemmer() \n",
        "\n",
        "def preprocess(sentence):\n",
        "    sentence=str(sentence)\n",
        "    sentence = sentence.lower()\n",
        "    sentence=sentence.replace('{html}',\"\") \n",
        "    cleanr = re.compile('<.*?>')\n",
        "    cleantext = re.sub(cleanr, '', sentence)\n",
        "    rem_url=re.sub(r'http\\S+', '',cleantext)\n",
        "    rem_num = re.sub('[0-9]+', '', rem_url)\n",
        "    tokenizer = RegexpTokenizer(r'\\w+')\n",
        "    tokens = tokenizer.tokenize(rem_num)  \n",
        "    filtered_words = [w for w in tokens if len(w) > 2 if not w in stopwords.words('english')]\n",
        "    stem_words=[stemmer.stem(w) for w in filtered_words]\n",
        "    lemma_words=[lemmatizer.lemmatize(w) for w in stem_words]\n",
        "    return \" \".join(lemma_words)\n",
        "\n",
        "\n",
        "df['cleanText']=df['text'].map(lambda s:preprocess(s)) "
      ]
    },
    {
      "cell_type": "markdown",
      "metadata": {
        "id": "TJct1LgJpTRf"
      },
      "source": [
        "## Doc2Vec"
      ]
    },
    {
      "cell_type": "code",
      "execution_count": null,
      "metadata": {
        "id": "LttF3N7lohKp"
      },
      "outputs": [],
      "source": [
        "data = df['cleanText']"
      ]
    },
    {
      "cell_type": "code",
      "execution_count": null,
      "metadata": {
        "colab": {
          "base_uri": "https://localhost:8080/"
        },
        "id": "3TLnsMdUpdwh",
        "outputId": "45b336f5-fb7e-4cd8-c28e-3a9248ce763c"
      },
      "outputs": [
        {
          "output_type": "stream",
          "name": "stdout",
          "text": [
            "Looking in indexes: https://pypi.org/simple, https://us-python.pkg.dev/colab-wheels/public/simple/\n",
            "Requirement already satisfied: Gensim in /usr/local/lib/python3.7/dist-packages (3.6.0)\n",
            "Requirement already satisfied: scipy>=0.18.1 in /usr/local/lib/python3.7/dist-packages (from Gensim) (1.7.3)\n",
            "Requirement already satisfied: smart-open>=1.2.1 in /usr/local/lib/python3.7/dist-packages (from Gensim) (5.2.1)\n",
            "Requirement already satisfied: six>=1.5.0 in /usr/local/lib/python3.7/dist-packages (from Gensim) (1.15.0)\n",
            "Requirement already satisfied: numpy>=1.11.3 in /usr/local/lib/python3.7/dist-packages (from Gensim) (1.21.6)\n"
          ]
        }
      ],
      "source": [
        "pip install Gensim"
      ]
    },
    {
      "cell_type": "code",
      "execution_count": null,
      "metadata": {
        "id": "QByozUqvnb9g"
      },
      "outputs": [],
      "source": [
        "def tagged_document(list_of_list_of_words):\n",
        "   for i, list_of_words in enumerate(list_of_list_of_words):\n",
        "      yield models.doc2vec.TaggedDocument(list_of_words, [i])\n",
        "data_training = list(tagged_document(data))"
      ]
    },
    {
      "cell_type": "code",
      "execution_count": null,
      "metadata": {
        "id": "f4XX-UW0pnTM"
      },
      "outputs": [],
      "source": [
        "model = models.doc2vec.Doc2Vec(vector_size=128, min_count=1, epochs=100)"
      ]
    },
    {
      "cell_type": "code",
      "execution_count": null,
      "metadata": {
        "id": "Qzw8NlhExvnv"
      },
      "outputs": [],
      "source": [
        "model.build_vocab(data_training)"
      ]
    },
    {
      "cell_type": "code",
      "execution_count": null,
      "metadata": {
        "id": "kjR2Dsl4x_OV"
      },
      "outputs": [],
      "source": [
        "model.train(data_training, total_examples=model.corpus_count, epochs=model.epochs)"
      ]
    },
    {
      "cell_type": "code",
      "execution_count": null,
      "metadata": {
        "id": "7iCkmQPpaBev"
      },
      "outputs": [],
      "source": [
        "#from gensim.test.utils import get_tmpfile"
      ]
    },
    {
      "cell_type": "code",
      "execution_count": null,
      "metadata": {
        "id": "PWHIkhJ_aC2L"
      },
      "outputs": [],
      "source": [
        "#fname = get_tmpfile(\"/content/gdrive/MyDrive/Recommendation_Systems_Activities/Journal/Notebooks/Trained_models/doc2vec_model_23june\")"
      ]
    },
    {
      "cell_type": "code",
      "execution_count": null,
      "metadata": {
        "id": "7k6krP45aGGU"
      },
      "outputs": [],
      "source": [
        "#model.save(fname)"
      ]
    },
    {
      "cell_type": "code",
      "execution_count": null,
      "metadata": {
        "id": "WnnN9awmdI6z"
      },
      "outputs": [],
      "source": [
        "##MAIN FUNCTION##\n",
        "def rec_user1(user_list):\n",
        "  import numpy as np\n",
        "  user_profile = []\n",
        "  for user_id in user_list:\n",
        "    user_index = df[df['id']==user_id].index\n",
        "    user_profile.append(model.docvecs[user_index[0]])\n",
        "  column_average = [sum(sub_list) / len(sub_list) for sub_list in zip(*user_profile)]\n",
        "  user_vector = numpy.array(column_average)\n",
        "\n",
        "  similars = model.docvecs.most_similar(positive=[user_vector],topn=100)\n",
        "\n",
        "  rec_list = []\n",
        "  for doc in similars:\n",
        "    rec_index = doc[0]\n",
        "    rec_id = df.iloc[rec_index]['id']\n",
        "    if df.loc[df['id'] == rec_id, 'type'].iloc[0] == 'software' or df.loc[df['id'] == rec_id, 'type'].iloc[0] == 'dataset':\n",
        "      rec_list.append(rec_id)\n",
        "\n",
        "  main_list = [x for x in rec_list if x not in user_list]\n",
        "\n",
        "  return main_list[:10]"
      ]
    },
    {
      "cell_type": "code",
      "execution_count": null,
      "metadata": {
        "id": "rnK4W6uQf5-X"
      },
      "outputs": [],
      "source": [
        "#def rec_user(user_list):\n",
        "  # user_profile = []\n",
        "  # for user_id in user_list:\n",
        "  #   user_index = df[df['id']==user_id].index\n",
        "  #   user_profile.append(model.docvecs[user_index[0]])\n",
        "  # column_average = [sum(sub_list) / len(sub_list) for sub_list in zip(*user_profile)]\n",
        "  # user_vector = numpy.array(column_average)\n",
        "\n",
        "  # similars = model.docvecs.most_similar(positive=[user_vector],topn=100)\n",
        "\n",
        "  # rec_list = []\n",
        "  # for doc in similars:\n",
        "  #   rec_index = doc[0]\n",
        "  #   rec_id = df.iloc[rec_index]['id']\n",
        "  #   if df.loc[df['id'] == rec_id, 'type'].iloc[0] == 'software' or df.loc[df['id'] == rec_id, 'type'].iloc[0] == 'dataset':\n",
        "  #     rec_list.append((rec_id,doc[1],df.loc[df['id'] == rec_id, 'type'].iloc[0]))\n",
        "  # return rec_list[:10]\n"
      ]
    },
    {
      "cell_type": "code",
      "execution_count": null,
      "metadata": {
        "id": "O9H24C09lbDG"
      },
      "outputs": [],
      "source": [
        "#def recommendation(my_id):\n",
        "  # newid = df[df['id']==my_id].index\n",
        "  # similars =  model.docvecs.most_similar(newid,topn=100)\n",
        "  # rec_list = []\n",
        "  # for doc in similars:\n",
        "  #   rec_index = doc[0]\n",
        "  #   rec_id = df.iloc[rec_index]['id']\n",
        "  #   if df.loc[df['id'] == rec_id, 'type'].iloc[0] == 'software' or df.loc[df['id'] == rec_id, 'type'].iloc[0] == 'dataset':\n",
        "  #     rec_list.append((rec_id,doc[1],df.loc[df['id'] == rec_id, 'type'].iloc[0]))\n",
        "  # return rec_list[:10]"
      ]
    },
    {
      "cell_type": "code",
      "execution_count": null,
      "metadata": {
        "id": "Dt0aIwVjSrfe"
      },
      "outputs": [],
      "source": [
        "#import numpy\n",
        "# def user(user_list):\n",
        "#   user_profile = []\n",
        "#   for user_id in user_list:\n",
        "#     user_index = df[df['id']==user_id].index\n",
        "#     user_profile.append(model.docvecs[user_index[0]])\n",
        "#   column_average = [sum(sub_list) / len(sub_list) for sub_list in zip(*user_profile)]\n",
        "#   user_vector = numpy.array(column_average)\n",
        "\n",
        "#   return user_vector"
      ]
    },
    {
      "cell_type": "markdown",
      "metadata": {
        "id": "q-U2Z7pRaG9B"
      },
      "source": [
        "# Dataset RecSys"
      ]
    },
    {
      "cell_type": "code",
      "execution_count": null,
      "metadata": {
        "id": "47V3-ZTKaJ0W"
      },
      "outputs": [],
      "source": [
        "def rec_user_d(user_list):\n",
        "  import numpy as np\n",
        "  user_profile = []\n",
        "  for user_id in user_list:\n",
        "    user_index = df[df['id']==user_id].index\n",
        "    user_profile.append(model.docvecs[user_index[0]])\n",
        "  column_average = [sum(sub_list) / len(sub_list) for sub_list in zip(*user_profile)]\n",
        "  user_vector = np.array(column_average)\n",
        "\n",
        "  similars = model.docvecs.most_similar(positive=[user_vector],topn=100)\n",
        "\n",
        "  rec_list = []\n",
        "  for doc in similars:\n",
        "    rec_index = doc[0]\n",
        "    rec_id = df.iloc[rec_index]['id']\n",
        "    if df.loc[df['id'] == rec_id, 'type'].iloc[0] == 'dataset':\n",
        "      rec_list.append(rec_id)\n",
        "\n",
        "  main_list = [x for x in rec_list if x not in user_list]\n",
        "\n",
        "  return main_list[:10]"
      ]
    },
    {
      "cell_type": "markdown",
      "metadata": {
        "id": "LbUMd8Hgac_o"
      },
      "source": [
        "##users"
      ]
    },
    {
      "cell_type": "code",
      "execution_count": null,
      "metadata": {
        "id": "RgMIwUpCassJ"
      },
      "outputs": [],
      "source": [
        "#users = pd.read_json('/content/gdrive/MyDrive/Recommendation_Systems_Activities/Journal/Data/users_june21/users_v3.json')\n",
        "#users = users.loc[users.astype(str).drop_duplicates(subset=['id']).index]\n",
        "#users.reset_index(drop=True, inplace=True)\n",
        "users_d = pd.read_json('/content/gdrive/MyDrive/Recommendation_Systems_Activities/Journal/Data/ni_3900/users_ni_3900.json',orient='index')"
      ]
    },
    {
      "cell_type": "code",
      "execution_count": null,
      "metadata": {
        "id": "hSV_M29daf2p"
      },
      "outputs": [],
      "source": [
        "def d_counter(user_prof):\n",
        "  d_counter = 0\n",
        "  for id in user_prof:\n",
        "    item_type = df[df['id'] == id]['type']\n",
        "    for i in item_type:\n",
        "      if str(i) == 'dataset':\n",
        "        d_counter += 1\n",
        "  return d_counter"
      ]
    },
    {
      "cell_type": "code",
      "execution_count": null,
      "metadata": {
        "id": "C0faf8WHapQS"
      },
      "outputs": [],
      "source": [
        "users_d['d_counter'] = users_d['id'].apply(lambda row : d_counter(row))"
      ]
    },
    {
      "cell_type": "code",
      "execution_count": null,
      "metadata": {
        "id": "S6slo3SoawEl"
      },
      "outputs": [],
      "source": [
        "users_d = users_d[users_d['d_counter'] != 0 ]\n",
        "users_d = users_d[users_d['d_counter'] != 1 ]\n",
        "users_d = users_d[users_d['d_counter'] != 2 ]\n",
        "users_d = users_d[users_d['d_counter'] != 3 ]\n",
        "\n",
        "users_d.reset_index(drop=True, inplace=True)"
      ]
    },
    {
      "cell_type": "code",
      "execution_count": null,
      "metadata": {
        "colab": {
          "base_uri": "https://localhost:8080/",
          "height": 424
        },
        "id": "vv7L03NXsi2E",
        "outputId": "b96a40e6-fd2f-451d-f583-64de5b447053"
      },
      "outputs": [
        {
          "output_type": "execute_result",
          "data": {
            "text/plain": [
              "               author_name                                                 id  \\\n",
              "0        A. Crone, Eveline  [50|r37980778c78::929a30378eb172e271714387c0d5...   \n",
              "1    A. Jacobsson, Josefin  [50|r37980778c78::3733d784e60cb4a92ec8226b7564...   \n",
              "2       A. Norman, Kenneth  [50|r37980778c78::3dde9a8ae6db8d35cdfb4fd5585c...   \n",
              "3       A. Turner, Jessica  [50|r37980778c78::c0dbf0428951817d1855dd0b2c5a...   \n",
              "4           Afzali, Maryam  [50|r37980778c78::6f1ef756cf61134a31340a05042f...   \n",
              "..                     ...                                                ...   \n",
              "148        Yamada, Takashi  [50|doi_dedup___::6f9d880df4bfd4c4aaa2c2fe0f39...   \n",
              "149             Yang, Yang  [50|r37980778c78::6190c74f564a6118cad28ab5349e...   \n",
              "150           Yu, Chunshui  [50|r37980778c78::3360403652895b1d322d59a72e11...   \n",
              "151          Zhao, Zhilian  [50|r37980778c78::af00ac7d9359d7e4b018bf6887dc...   \n",
              "152        Zimmermann, Jan  [50|dedup_wf_001::3ddc4ab8e8415f5932dcc3e2273f...   \n",
              "\n",
              "     d_counter  \n",
              "0            4  \n",
              "1            4  \n",
              "2            6  \n",
              "3            6  \n",
              "4            6  \n",
              "..         ...  \n",
              "148          4  \n",
              "149          5  \n",
              "150          8  \n",
              "151          6  \n",
              "152          4  \n",
              "\n",
              "[153 rows x 3 columns]"
            ],
            "text/html": [
              "\n",
              "  <div id=\"df-cd51a508-84a7-4fd0-b034-b616fb25768a\">\n",
              "    <div class=\"colab-df-container\">\n",
              "      <div>\n",
              "<style scoped>\n",
              "    .dataframe tbody tr th:only-of-type {\n",
              "        vertical-align: middle;\n",
              "    }\n",
              "\n",
              "    .dataframe tbody tr th {\n",
              "        vertical-align: top;\n",
              "    }\n",
              "\n",
              "    .dataframe thead th {\n",
              "        text-align: right;\n",
              "    }\n",
              "</style>\n",
              "<table border=\"1\" class=\"dataframe\">\n",
              "  <thead>\n",
              "    <tr style=\"text-align: right;\">\n",
              "      <th></th>\n",
              "      <th>author_name</th>\n",
              "      <th>id</th>\n",
              "      <th>d_counter</th>\n",
              "    </tr>\n",
              "  </thead>\n",
              "  <tbody>\n",
              "    <tr>\n",
              "      <th>0</th>\n",
              "      <td>A. Crone, Eveline</td>\n",
              "      <td>[50|r37980778c78::929a30378eb172e271714387c0d5...</td>\n",
              "      <td>4</td>\n",
              "    </tr>\n",
              "    <tr>\n",
              "      <th>1</th>\n",
              "      <td>A. Jacobsson, Josefin</td>\n",
              "      <td>[50|r37980778c78::3733d784e60cb4a92ec8226b7564...</td>\n",
              "      <td>4</td>\n",
              "    </tr>\n",
              "    <tr>\n",
              "      <th>2</th>\n",
              "      <td>A. Norman, Kenneth</td>\n",
              "      <td>[50|r37980778c78::3dde9a8ae6db8d35cdfb4fd5585c...</td>\n",
              "      <td>6</td>\n",
              "    </tr>\n",
              "    <tr>\n",
              "      <th>3</th>\n",
              "      <td>A. Turner, Jessica</td>\n",
              "      <td>[50|r37980778c78::c0dbf0428951817d1855dd0b2c5a...</td>\n",
              "      <td>6</td>\n",
              "    </tr>\n",
              "    <tr>\n",
              "      <th>4</th>\n",
              "      <td>Afzali, Maryam</td>\n",
              "      <td>[50|r37980778c78::6f1ef756cf61134a31340a05042f...</td>\n",
              "      <td>6</td>\n",
              "    </tr>\n",
              "    <tr>\n",
              "      <th>...</th>\n",
              "      <td>...</td>\n",
              "      <td>...</td>\n",
              "      <td>...</td>\n",
              "    </tr>\n",
              "    <tr>\n",
              "      <th>148</th>\n",
              "      <td>Yamada, Takashi</td>\n",
              "      <td>[50|doi_dedup___::6f9d880df4bfd4c4aaa2c2fe0f39...</td>\n",
              "      <td>4</td>\n",
              "    </tr>\n",
              "    <tr>\n",
              "      <th>149</th>\n",
              "      <td>Yang, Yang</td>\n",
              "      <td>[50|r37980778c78::6190c74f564a6118cad28ab5349e...</td>\n",
              "      <td>5</td>\n",
              "    </tr>\n",
              "    <tr>\n",
              "      <th>150</th>\n",
              "      <td>Yu, Chunshui</td>\n",
              "      <td>[50|r37980778c78::3360403652895b1d322d59a72e11...</td>\n",
              "      <td>8</td>\n",
              "    </tr>\n",
              "    <tr>\n",
              "      <th>151</th>\n",
              "      <td>Zhao, Zhilian</td>\n",
              "      <td>[50|r37980778c78::af00ac7d9359d7e4b018bf6887dc...</td>\n",
              "      <td>6</td>\n",
              "    </tr>\n",
              "    <tr>\n",
              "      <th>152</th>\n",
              "      <td>Zimmermann, Jan</td>\n",
              "      <td>[50|dedup_wf_001::3ddc4ab8e8415f5932dcc3e2273f...</td>\n",
              "      <td>4</td>\n",
              "    </tr>\n",
              "  </tbody>\n",
              "</table>\n",
              "<p>153 rows × 3 columns</p>\n",
              "</div>\n",
              "      <button class=\"colab-df-convert\" onclick=\"convertToInteractive('df-cd51a508-84a7-4fd0-b034-b616fb25768a')\"\n",
              "              title=\"Convert this dataframe to an interactive table.\"\n",
              "              style=\"display:none;\">\n",
              "        \n",
              "  <svg xmlns=\"http://www.w3.org/2000/svg\" height=\"24px\"viewBox=\"0 0 24 24\"\n",
              "       width=\"24px\">\n",
              "    <path d=\"M0 0h24v24H0V0z\" fill=\"none\"/>\n",
              "    <path d=\"M18.56 5.44l.94 2.06.94-2.06 2.06-.94-2.06-.94-.94-2.06-.94 2.06-2.06.94zm-11 1L8.5 8.5l.94-2.06 2.06-.94-2.06-.94L8.5 2.5l-.94 2.06-2.06.94zm10 10l.94 2.06.94-2.06 2.06-.94-2.06-.94-.94-2.06-.94 2.06-2.06.94z\"/><path d=\"M17.41 7.96l-1.37-1.37c-.4-.4-.92-.59-1.43-.59-.52 0-1.04.2-1.43.59L10.3 9.45l-7.72 7.72c-.78.78-.78 2.05 0 2.83L4 21.41c.39.39.9.59 1.41.59.51 0 1.02-.2 1.41-.59l7.78-7.78 2.81-2.81c.8-.78.8-2.07 0-2.86zM5.41 20L4 18.59l7.72-7.72 1.47 1.35L5.41 20z\"/>\n",
              "  </svg>\n",
              "      </button>\n",
              "      \n",
              "  <style>\n",
              "    .colab-df-container {\n",
              "      display:flex;\n",
              "      flex-wrap:wrap;\n",
              "      gap: 12px;\n",
              "    }\n",
              "\n",
              "    .colab-df-convert {\n",
              "      background-color: #E8F0FE;\n",
              "      border: none;\n",
              "      border-radius: 50%;\n",
              "      cursor: pointer;\n",
              "      display: none;\n",
              "      fill: #1967D2;\n",
              "      height: 32px;\n",
              "      padding: 0 0 0 0;\n",
              "      width: 32px;\n",
              "    }\n",
              "\n",
              "    .colab-df-convert:hover {\n",
              "      background-color: #E2EBFA;\n",
              "      box-shadow: 0px 1px 2px rgba(60, 64, 67, 0.3), 0px 1px 3px 1px rgba(60, 64, 67, 0.15);\n",
              "      fill: #174EA6;\n",
              "    }\n",
              "\n",
              "    [theme=dark] .colab-df-convert {\n",
              "      background-color: #3B4455;\n",
              "      fill: #D2E3FC;\n",
              "    }\n",
              "\n",
              "    [theme=dark] .colab-df-convert:hover {\n",
              "      background-color: #434B5C;\n",
              "      box-shadow: 0px 1px 3px 1px rgba(0, 0, 0, 0.15);\n",
              "      filter: drop-shadow(0px 1px 2px rgba(0, 0, 0, 0.3));\n",
              "      fill: #FFFFFF;\n",
              "    }\n",
              "  </style>\n",
              "\n",
              "      <script>\n",
              "        const buttonEl =\n",
              "          document.querySelector('#df-cd51a508-84a7-4fd0-b034-b616fb25768a button.colab-df-convert');\n",
              "        buttonEl.style.display =\n",
              "          google.colab.kernel.accessAllowed ? 'block' : 'none';\n",
              "\n",
              "        async function convertToInteractive(key) {\n",
              "          const element = document.querySelector('#df-cd51a508-84a7-4fd0-b034-b616fb25768a');\n",
              "          const dataTable =\n",
              "            await google.colab.kernel.invokeFunction('convertToInteractive',\n",
              "                                                     [key], {});\n",
              "          if (!dataTable) return;\n",
              "\n",
              "          const docLinkHtml = 'Like what you see? Visit the ' +\n",
              "            '<a target=\"_blank\" href=https://colab.research.google.com/notebooks/data_table.ipynb>data table notebook</a>'\n",
              "            + ' to learn more about interactive tables.';\n",
              "          element.innerHTML = '';\n",
              "          dataTable['output_type'] = 'display_data';\n",
              "          await google.colab.output.renderOutput(dataTable, element);\n",
              "          const docLink = document.createElement('div');\n",
              "          docLink.innerHTML = docLinkHtml;\n",
              "          element.appendChild(docLink);\n",
              "        }\n",
              "      </script>\n",
              "    </div>\n",
              "  </div>\n",
              "  "
            ]
          },
          "metadata": {},
          "execution_count": 25
        }
      ],
      "source": [
        "users_d"
      ]
    },
    {
      "cell_type": "markdown",
      "metadata": {
        "id": "zdcJjGXUa3VM"
      },
      "source": [
        "##Leave one out"
      ]
    },
    {
      "cell_type": "code",
      "execution_count": null,
      "metadata": {
        "id": "BH229OFZa4jy"
      },
      "outputs": [],
      "source": [
        "def leave_one_out_d(profile_items):\n",
        "  for item in profile_items:\n",
        "      item_type = df[df['id'] == item]['type'].tolist()\n",
        "      if item_type[0] == 'dataset':\n",
        "        profile_items.remove(item)\n",
        "        return item"
      ]
    },
    {
      "cell_type": "code",
      "execution_count": null,
      "metadata": {
        "id": "kJH3bwu7bE2Z"
      },
      "outputs": [],
      "source": [
        "users_d['leave_one_out_d'] = users_d['id'].apply(lambda x:leave_one_out_d(x))"
      ]
    },
    {
      "cell_type": "markdown",
      "metadata": {
        "id": "HUIDQl5p7m4l"
      },
      "source": [
        "##Leave two out"
      ]
    },
    {
      "cell_type": "code",
      "execution_count": null,
      "metadata": {
        "id": "lrBrcgqt7lXO"
      },
      "outputs": [],
      "source": [
        "## IMPORTANT: if leave-1-out/leave-3-out has already been run, you need to load users from the start\n",
        "\n",
        "def leave_two_out_d(profile_items):\n",
        "  dataset_list = []\n",
        "  for item in profile_items:\n",
        "      item_type = df[df['id'] == item]['type'].tolist()\n",
        "      if item_type[0] == 'dataset':\n",
        "          dataset_list.append(item)\n",
        "          if len(dataset_list) == 2:\n",
        "            for ds in dataset_list:\n",
        "              profile_items.remove(ds)\n",
        "            return dataset_list"
      ]
    },
    {
      "cell_type": "code",
      "execution_count": null,
      "metadata": {
        "id": "B0OghCUR7sxX"
      },
      "outputs": [],
      "source": [
        "users_d['leave_two_out_d'] = users_d['id'].apply(lambda x:leave_two_out_d(x))"
      ]
    },
    {
      "cell_type": "markdown",
      "metadata": {
        "id": "sMDOe-I271jh"
      },
      "source": [
        "##Leave three out"
      ]
    },
    {
      "cell_type": "code",
      "execution_count": null,
      "metadata": {
        "id": "TLHFpSpY73pg"
      },
      "outputs": [],
      "source": [
        "# ## IMPORTANT: if leave-1-out/leave-2-out has already been run, you need to load users from the start\n",
        "\n",
        "def leave_three_out_d(profile_items):\n",
        "  dataset_list = []\n",
        "  for item in profile_items:\n",
        "      item_type = df[df['id'] == item]['type'].tolist()\n",
        "      if item_type[0] == 'dataset':\n",
        "          dataset_list.append(item)\n",
        "          if len(dataset_list)==3:\n",
        "            for ds in dataset_list:\n",
        "                profile_items.remove(ds)\n",
        "\n",
        "            return dataset_list\n",
        "  "
      ]
    },
    {
      "cell_type": "code",
      "execution_count": null,
      "metadata": {
        "id": "5wlPKKA1767w"
      },
      "outputs": [],
      "source": [
        "users_d['leave_three_out_d'] = users_d['id'].apply(lambda x:leave_three_out_d(x))"
      ]
    },
    {
      "cell_type": "code",
      "execution_count": null,
      "metadata": {
        "colab": {
          "base_uri": "https://localhost:8080/"
        },
        "id": "tiLiFtNwsEAZ",
        "outputId": "55ca8b91-07c3-4e05-e812-1537f2b0e30e"
      },
      "outputs": [
        {
          "output_type": "execute_result",
          "data": {
            "text/plain": [
              "['50|r37980778c78::218b9a7a6370f88875d05e1a65bafa11']"
            ]
          },
          "metadata": {},
          "execution_count": 36
        }
      ],
      "source": [
        "users_d['id'][0]"
      ]
    },
    {
      "cell_type": "code",
      "execution_count": null,
      "metadata": {
        "id": "X5VWstICqKwu",
        "colab": {
          "base_uri": "https://localhost:8080/"
        },
        "outputId": "8b7a48f7-d0f9-41cb-9f78-52836406e917"
      },
      "outputs": [
        {
          "output_type": "execute_result",
          "data": {
            "text/plain": [
              "['50|r37980778c78::929a30378eb172e271714387c0d52d31',\n",
              " '50|r37980778c78::285b7a83deee0d0557c4d430c05ca786',\n",
              " '50|r37980778c78::96fc66a94507f7fa4cda989e11187b37']"
            ]
          },
          "metadata": {},
          "execution_count": 37
        }
      ],
      "source": [
        "users_d['leave_three_out_d'][0]"
      ]
    },
    {
      "cell_type": "markdown",
      "metadata": {
        "id": "s25bmTXDbLlv"
      },
      "source": [
        "##Dataset Recommender"
      ]
    },
    {
      "cell_type": "code",
      "execution_count": null,
      "metadata": {
        "id": "MFhi9RAhbG2g"
      },
      "outputs": [],
      "source": [
        "users_d['recommended_items'] = users_d['id'].apply(lambda s:rec_user_d(s)) "
      ]
    },
    {
      "cell_type": "markdown",
      "metadata": {
        "id": "V01Cd-B4bO_E"
      },
      "source": [
        "## Hit-rate@1 Evaluation"
      ]
    },
    {
      "cell_type": "code",
      "execution_count": null,
      "metadata": {
        "id": "zazRfEiJbUr6"
      },
      "outputs": [],
      "source": [
        "def hit_rate_d(row):\n",
        "  for item in row[\"recommended_items\"]:\n",
        "    if item == row['leave_one_out_d']:\n",
        "      return 1\n",
        "  return 0 "
      ]
    },
    {
      "cell_type": "code",
      "execution_count": null,
      "metadata": {
        "id": "O1FFaVjx8r0K"
      },
      "outputs": [],
      "source": [
        "users_d['hit_rate_d'] = users_d.apply(lambda x:hit_rate_d(x),axis=1)"
      ]
    },
    {
      "cell_type": "code",
      "execution_count": null,
      "metadata": {
        "colab": {
          "base_uri": "https://localhost:8080/"
        },
        "id": "tIc7fob1bVJm",
        "outputId": "859f4bf9-68e8-48d2-a9fe-2852e7519fb6"
      },
      "outputs": [
        {
          "output_type": "execute_result",
          "data": {
            "text/plain": [
              "0.3202614379084967"
            ]
          },
          "metadata": {},
          "execution_count": 45
        }
      ],
      "source": [
        "users_d['hit_rate_d'].mean()"
      ]
    },
    {
      "cell_type": "markdown",
      "metadata": {
        "id": "4mXBf33v8x4g"
      },
      "source": [
        "## Hit-rate@2 Evaluation"
      ]
    },
    {
      "cell_type": "code",
      "execution_count": null,
      "metadata": {
        "id": "lTxJT6-s8ZQl"
      },
      "outputs": [],
      "source": [
        "def hit_rate_d(row):\n",
        "  for item in row[\"recommended_items\"]:\n",
        "    if item in row['leave_two_out_d']:\n",
        "      return 1\n",
        "  return 0 "
      ]
    },
    {
      "cell_type": "code",
      "execution_count": null,
      "metadata": {
        "colab": {
          "base_uri": "https://localhost:8080/"
        },
        "id": "0JYDymmI81IL",
        "outputId": "7159cbf4-3044-4150-e68a-e0003ec0a914"
      },
      "outputs": [
        {
          "output_type": "execute_result",
          "data": {
            "text/plain": [
              "0.3790849673202614"
            ]
          },
          "metadata": {},
          "execution_count": 68
        }
      ],
      "source": [
        "users_d['hit_rate_d'] = users_d.apply(lambda x:hit_rate_d(x),axis=1)\n",
        "users_d['hit_rate_d'].mean()"
      ]
    },
    {
      "cell_type": "markdown",
      "metadata": {
        "id": "MHgCVPCZ84Kb"
      },
      "source": [
        "## Hit-rate@3 Evaluation"
      ]
    },
    {
      "cell_type": "code",
      "execution_count": null,
      "metadata": {
        "id": "Y_7ScrVw86z0"
      },
      "outputs": [],
      "source": [
        "def hit_rate_d(row):\n",
        "  for item in row[\"recommended_items\"]:\n",
        "    if item in row['leave_three_out_d']:\n",
        "      return 1\n",
        "  return 0 "
      ]
    },
    {
      "cell_type": "code",
      "execution_count": null,
      "metadata": {
        "colab": {
          "base_uri": "https://localhost:8080/"
        },
        "id": "n5lhqnJHpUF_",
        "outputId": "de584c10-a53d-475e-f77a-3507d16ae7f3"
      },
      "outputs": [
        {
          "output_type": "execute_result",
          "data": {
            "text/plain": [
              "0      [50|r37980778c78::929a30378eb172e271714387c0d5...\n",
              "1      [50|r37980778c78::3733d784e60cb4a92ec8226b7564...\n",
              "2      [50|r37980778c78::3dde9a8ae6db8d35cdfb4fd5585c...\n",
              "3      [50|r37980778c78::c0dbf0428951817d1855dd0b2c5a...\n",
              "4      [50|r37980778c78::6f1ef756cf61134a31340a05042f...\n",
              "                             ...                        \n",
              "148    [50|r37980778c78::13c50b8f03369ab5555af1a0b231...\n",
              "149    [50|r37980778c78::6190c74f564a6118cad28ab5349e...\n",
              "150    [50|r37980778c78::3360403652895b1d322d59a72e11...\n",
              "151    [50|r37980778c78::af00ac7d9359d7e4b018bf6887dc...\n",
              "152    [50|dedup_wf_001::3ddc4ab8e8415f5932dcc3e2273f...\n",
              "Name: leave_three_out_d, Length: 153, dtype: object"
            ]
          },
          "metadata": {},
          "execution_count": 41
        }
      ],
      "source": [
        "users_d[\"leave_three_out_d\"] "
      ]
    },
    {
      "cell_type": "code",
      "execution_count": null,
      "metadata": {
        "colab": {
          "base_uri": "https://localhost:8080/"
        },
        "id": "BWiIucAV88-W",
        "outputId": "2ad40f5e-9bda-4031-9df7-9278bba0b0f0"
      },
      "outputs": [
        {
          "output_type": "execute_result",
          "data": {
            "text/plain": [
              "0.45751633986928103"
            ]
          },
          "metadata": {},
          "execution_count": 42
        }
      ],
      "source": [
        "users_d['hit_rate_d'] = users_d.apply(lambda x:hit_rate_d(x),axis=1)\n",
        "users_d['hit_rate_d'].mean()"
      ]
    },
    {
      "cell_type": "markdown",
      "metadata": {
        "id": "KcquKogEcDyu"
      },
      "source": [
        "# Software RecSys"
      ]
    },
    {
      "cell_type": "code",
      "execution_count": null,
      "metadata": {
        "id": "16bDkP5tcDyu"
      },
      "outputs": [],
      "source": [
        "def rec_user_sw(user_list):\n",
        "  import numpy as np\n",
        "  user_profile = []\n",
        "  for user_id in user_list:\n",
        "    user_index = df[df['id']==user_id].index\n",
        "    user_profile.append(model.docvecs[user_index[0]])\n",
        "  column_average = [sum(sub_list) / len(sub_list) for sub_list in zip(*user_profile)]\n",
        "  user_vector = np.array(column_average)\n",
        "\n",
        "  similars = model.docvecs.most_similar(positive=[user_vector],topn=100)\n",
        "\n",
        "  rec_list = []\n",
        "  for doc in similars:\n",
        "    rec_index = doc[0]\n",
        "    rec_id = df.iloc[rec_index]['id']\n",
        "    if df.loc[df['id'] == rec_id, 'type'].iloc[0] == 'software':\n",
        "      rec_list.append(rec_id)\n",
        "\n",
        "  main_list = [x for x in rec_list if x not in user_list]\n",
        "\n",
        "  return main_list[:10]"
      ]
    },
    {
      "cell_type": "markdown",
      "metadata": {
        "id": "V9K3I3RlcDyu"
      },
      "source": [
        "##users"
      ]
    },
    {
      "cell_type": "code",
      "execution_count": null,
      "metadata": {
        "id": "fhcY3HW4cDyu"
      },
      "outputs": [],
      "source": [
        "users_sw = pd.read_json('/content/gdrive/MyDrive/Recommendation_Systems_Activities/Journal/Data/ni_3900/users_ni_3900.json',orient='index')\n",
        "users_sw = users_sw.loc[users_sw.astype(str).drop_duplicates(subset=['id']).index]\n",
        "users_sw.reset_index(drop=True, inplace=True)"
      ]
    },
    {
      "cell_type": "code",
      "source": [
        "def sw_counter(user_prof):\n",
        "  sw_counter = 0\n",
        "  for id in user_prof:\n",
        "    item_type = df[df['id'] == id]['type']\n",
        "    for i in item_type:\n",
        "      if str(i) == 'software':\n",
        "        sw_counter += 1\n",
        "  return sw_counter"
      ],
      "metadata": {
        "id": "znEd0Hvdxqzk"
      },
      "execution_count": null,
      "outputs": []
    },
    {
      "cell_type": "code",
      "execution_count": null,
      "metadata": {
        "id": "440yeP1gfWtx"
      },
      "outputs": [],
      "source": [
        "users_sw['sw_counter'] = users_sw['id'].apply(lambda row : sw_counter(row))"
      ]
    },
    {
      "cell_type": "code",
      "execution_count": null,
      "metadata": {
        "id": "jIDzBd_McDyu"
      },
      "outputs": [],
      "source": [
        "users_sw = users_sw[users_sw['sw_counter'] != 0 ]\n",
        "users_sw = users_sw[users_sw['sw_counter'] != 1 ]\n",
        "users_sw = users_sw[users_sw['sw_counter'] != 2 ]\n",
        "users_sw = users_sw[users_sw['sw_counter'] != 3 ]\n",
        "users_sw.reset_index(drop=True, inplace=True)"
      ]
    },
    {
      "cell_type": "markdown",
      "metadata": {
        "id": "5QOId4iGcDyv"
      },
      "source": [
        "##Leave one out"
      ]
    },
    {
      "cell_type": "code",
      "execution_count": null,
      "metadata": {
        "id": "ZIUzH6XkcDyv"
      },
      "outputs": [],
      "source": [
        "def leave_one_out_sw(profile_items):\n",
        "   for item in profile_items:\n",
        "      item_type = df[df['id'] == item]['type'].tolist()\n",
        "      if item_type[0] == 'software':\n",
        "        profile_items.remove(item)\n",
        "        return item"
      ]
    },
    {
      "cell_type": "code",
      "execution_count": null,
      "metadata": {
        "id": "_NLGGoYMcDyv"
      },
      "outputs": [],
      "source": [
        "users_sw['leave_one_out_sw'] = users_sw['id'].apply(lambda x:leave_one_out_sw(x))"
      ]
    },
    {
      "cell_type": "markdown",
      "source": [
        "## Leave two out"
      ],
      "metadata": {
        "id": "aiW_3R5ozGR9"
      }
    },
    {
      "cell_type": "code",
      "source": [
        "def leave_two_out_sw(profile_items):\n",
        "  sw_list = []\n",
        "  for item in profile_items:\n",
        "      item_type = df[df['id'] == item]['type'].tolist()\n",
        "      if item_type[0] == 'software':\n",
        "          sw_list.append(item)\n",
        "          if len(sw_list) == 2:\n",
        "            for sw in sw_list:\n",
        "              profile_items.remove(sw)\n",
        "            return sw_list"
      ],
      "metadata": {
        "id": "2aAcy_AHzIgY"
      },
      "execution_count": null,
      "outputs": []
    },
    {
      "cell_type": "code",
      "source": [
        "users_sw['leave_two_out_sw'] = users_sw['id'].apply(lambda x:leave_two_out_sw(x))"
      ],
      "metadata": {
        "id": "LuMrrtXDzZSD"
      },
      "execution_count": null,
      "outputs": []
    },
    {
      "cell_type": "code",
      "source": [
        "users_sw['leave_two_out_sw'][0]"
      ],
      "metadata": {
        "colab": {
          "base_uri": "https://localhost:8080/"
        },
        "id": "IsLil5yL2JTP",
        "outputId": "d72f3c94-6219-450b-8684-f97b868c3030"
      },
      "execution_count": null,
      "outputs": [
        {
          "output_type": "execute_result",
          "data": {
            "text/plain": [
              "['50|doi_________::77d25c5587f0b1ab44b34485d4ecb37f',\n",
              " '50|doi_________::c1881ca8737b1dd96123c03e5f11e4c2']"
            ]
          },
          "metadata": {},
          "execution_count": 28
        }
      ]
    },
    {
      "cell_type": "code",
      "source": [
        "users_sw['id'][0]"
      ],
      "metadata": {
        "colab": {
          "base_uri": "https://localhost:8080/"
        },
        "id": "JYOeisTM2Ldh",
        "outputId": "4d47ea2e-5a7d-4ce4-832c-c4a6e88dea9c"
      },
      "execution_count": null,
      "outputs": [
        {
          "output_type": "execute_result",
          "data": {
            "text/plain": [
              "['50|doi_________::db035d2dbe49ed7a1dc68f5163222c72',\n",
              " '50|doi_________::84c31f6e86fc012ff2f5725fc4553af6',\n",
              " '50|doi_________::b58ad48a3597070a30da7860cc939128',\n",
              " '50|doi_________::e23490325da3dce7da8d8d801ad5ee27',\n",
              " '50|doi_dedup___::d1e4df32d1acb2c2b81455857c8bb3fb',\n",
              " '50|doi_________::d0b3eddc114427a3e0e7f5effc818020',\n",
              " '50|doi_________::a24af867c17a79d1ff0af8c9896d7826',\n",
              " '50|doi_________::84b4201d70b77d4cf3afcb1313698b39',\n",
              " '50|doi_________::678fb5611994f25abfca1aaafce7a398',\n",
              " '50|doi_dedup___::65b5a171d46983aaf71588d8cb8c4c94',\n",
              " '50|doi_________::ba9436e30d9b921dd39ad41cf8d05993']"
            ]
          },
          "metadata": {},
          "execution_count": 29
        }
      ]
    },
    {
      "cell_type": "markdown",
      "source": [
        "## Leave three out"
      ],
      "metadata": {
        "id": "wLCULYIFzcmG"
      }
    },
    {
      "cell_type": "code",
      "source": [
        "def leave_three_out_sw(profile_items):\n",
        "  sw_list = []\n",
        "  for item in profile_items:\n",
        "      item_type = df[df['id'] == item]['type'].tolist()\n",
        "      if item_type[0] == 'software':\n",
        "          sw_list.append(item)\n",
        "          if len(sw_list) == 3:\n",
        "            for sw in sw_list:\n",
        "              profile_items.remove(sw)\n",
        "            return sw_list\n"
      ],
      "metadata": {
        "id": "Z9ja88BpzfDK"
      },
      "execution_count": null,
      "outputs": []
    },
    {
      "cell_type": "code",
      "source": [
        "users_sw['leave_three_out_sw'] = users_sw['id'].apply(lambda x:leave_three_out_sw(x))"
      ],
      "metadata": {
        "id": "vePdqvzKzhT1"
      },
      "execution_count": null,
      "outputs": []
    },
    {
      "cell_type": "code",
      "source": [
        "users_sw['leave_three_out_sw'][0]"
      ],
      "metadata": {
        "colab": {
          "base_uri": "https://localhost:8080/"
        },
        "id": "HpAZku8R2lT9",
        "outputId": "97874728-2187-49b8-8b7e-2fe18380d951"
      },
      "execution_count": null,
      "outputs": [
        {
          "output_type": "execute_result",
          "data": {
            "text/plain": [
              "['50|doi_________::77d25c5587f0b1ab44b34485d4ecb37f',\n",
              " '50|doi_________::c1881ca8737b1dd96123c03e5f11e4c2',\n",
              " '50|doi_________::db035d2dbe49ed7a1dc68f5163222c72']"
            ]
          },
          "metadata": {},
          "execution_count": 135
        }
      ]
    },
    {
      "cell_type": "code",
      "source": [
        "users_sw['id'][0]"
      ],
      "metadata": {
        "colab": {
          "base_uri": "https://localhost:8080/"
        },
        "id": "VzVZ3kOB2m9-",
        "outputId": "8fc81f45-2cb3-418e-94ea-4d481b33dcee"
      },
      "execution_count": null,
      "outputs": [
        {
          "output_type": "execute_result",
          "data": {
            "text/plain": [
              "['50|doi_________::84c31f6e86fc012ff2f5725fc4553af6',\n",
              " '50|doi_________::b58ad48a3597070a30da7860cc939128',\n",
              " '50|doi_________::e23490325da3dce7da8d8d801ad5ee27',\n",
              " '50|doi_dedup___::d1e4df32d1acb2c2b81455857c8bb3fb',\n",
              " '50|doi_________::d0b3eddc114427a3e0e7f5effc818020',\n",
              " '50|doi_________::a24af867c17a79d1ff0af8c9896d7826',\n",
              " '50|doi_________::84b4201d70b77d4cf3afcb1313698b39',\n",
              " '50|doi_________::678fb5611994f25abfca1aaafce7a398',\n",
              " '50|doi_dedup___::65b5a171d46983aaf71588d8cb8c4c94',\n",
              " '50|doi_________::ba9436e30d9b921dd39ad41cf8d05993']"
            ]
          },
          "metadata": {},
          "execution_count": 136
        }
      ]
    },
    {
      "cell_type": "markdown",
      "metadata": {
        "id": "day83kWBcDyv"
      },
      "source": [
        "## SW Recommender"
      ]
    },
    {
      "cell_type": "code",
      "execution_count": null,
      "metadata": {
        "id": "Fkk20780cDyw"
      },
      "outputs": [],
      "source": [
        "users_sw['recommended_items'] = users_sw['id'].apply(lambda s:rec_user_sw(s)) "
      ]
    },
    {
      "cell_type": "markdown",
      "metadata": {
        "id": "zH-xx9IQcDyw"
      },
      "source": [
        "## Hit-rate@1 "
      ]
    },
    {
      "cell_type": "code",
      "execution_count": null,
      "metadata": {
        "id": "OM4QVjkOcDyw"
      },
      "outputs": [],
      "source": [
        "def hit_rate_sw(row):\n",
        "  for item in row[\"recommended_items\"]:\n",
        "    if item == row['leave_one_out_sw']:\n",
        "      return 1\n",
        "  return 0 \n"
      ]
    },
    {
      "cell_type": "code",
      "execution_count": null,
      "metadata": {
        "id": "Ftb-d3WlcDyw"
      },
      "outputs": [],
      "source": [
        "users_sw['hit_rate'] = users_sw.apply(lambda x:hit_rate_sw(x),axis=1)"
      ]
    },
    {
      "cell_type": "code",
      "execution_count": null,
      "metadata": {
        "colab": {
          "base_uri": "https://localhost:8080/"
        },
        "id": "ppV-UBducDyw",
        "outputId": "cdf906c5-00e0-4113-9036-7d89d2e824dc"
      },
      "outputs": [
        {
          "output_type": "execute_result",
          "data": {
            "text/plain": [
              "0.7692307692307693"
            ]
          },
          "metadata": {},
          "execution_count": 95
        }
      ],
      "source": [
        "users_sw['hit_rate'].mean()"
      ]
    },
    {
      "cell_type": "markdown",
      "source": [
        "## Hit-rate@2"
      ],
      "metadata": {
        "id": "eO_NpfsV0F6J"
      }
    },
    {
      "cell_type": "code",
      "source": [
        "def hit_rate_sw(row):\n",
        "  for item in row[\"recommended_items\"]:\n",
        "    if item == row['leave_two_out_sw']:\n",
        "      return 1\n",
        "  return 0 \n"
      ],
      "metadata": {
        "id": "p5FrxLbPzEn_"
      },
      "execution_count": null,
      "outputs": []
    },
    {
      "cell_type": "code",
      "source": [
        "users_sw['hit_rate'] = users_sw.apply(lambda x:hit_rate_sw(x),axis=1)"
      ],
      "metadata": {
        "id": "p4xGccfe0eZ2"
      },
      "execution_count": null,
      "outputs": []
    },
    {
      "cell_type": "code",
      "source": [
        "users_sw['hit_rate'].mean()"
      ],
      "metadata": {
        "colab": {
          "base_uri": "https://localhost:8080/"
        },
        "id": "iaMq04Zn0f8z",
        "outputId": "c7ceb35e-8f7d-4137-9e0d-dfe047201216"
      },
      "execution_count": null,
      "outputs": [
        {
          "output_type": "execute_result",
          "data": {
            "text/plain": [
              "0.0"
            ]
          },
          "metadata": {},
          "execution_count": 33
        }
      ]
    },
    {
      "cell_type": "code",
      "source": [
        "users_sw['hit_rate']"
      ],
      "metadata": {
        "colab": {
          "base_uri": "https://localhost:8080/"
        },
        "id": "Vlvg9WgK6dT2",
        "outputId": "63433476-64e0-4214-d836-6eb472a948be"
      },
      "execution_count": null,
      "outputs": [
        {
          "output_type": "execute_result",
          "data": {
            "text/plain": [
              "0     0\n",
              "1     0\n",
              "2     0\n",
              "3     0\n",
              "4     0\n",
              "5     0\n",
              "6     0\n",
              "7     0\n",
              "8     0\n",
              "9     0\n",
              "10    0\n",
              "11    0\n",
              "12    0\n",
              "13    0\n",
              "14    0\n",
              "15    0\n",
              "16    0\n",
              "17    0\n",
              "18    0\n",
              "19    0\n",
              "20    0\n",
              "21    0\n",
              "22    0\n",
              "23    0\n",
              "24    0\n",
              "25    0\n",
              "Name: hit_rate, dtype: int64"
            ]
          },
          "metadata": {},
          "execution_count": 34
        }
      ]
    },
    {
      "cell_type": "markdown",
      "source": [
        "## Hit-rate@3"
      ],
      "metadata": {
        "id": "pousp1ha0j8x"
      }
    },
    {
      "cell_type": "code",
      "source": [
        "def hit_rate_sw(row):\n",
        "  for item in row[\"recommended_items\"]:\n",
        "    if item == row['leave_three_out_sw']:\n",
        "      return 1\n",
        "  return 0 \n"
      ],
      "metadata": {
        "id": "tjWvMm7M0j8y"
      },
      "execution_count": null,
      "outputs": []
    },
    {
      "cell_type": "code",
      "source": [
        "users_sw['hit_rate'] = users_sw.apply(lambda x:hit_rate_sw(x),axis=1)"
      ],
      "metadata": {
        "id": "TughlPF50j8y"
      },
      "execution_count": null,
      "outputs": []
    },
    {
      "cell_type": "code",
      "source": [
        "users_sw['hit_rate'].mean()"
      ],
      "metadata": {
        "colab": {
          "base_uri": "https://localhost:8080/"
        },
        "id": "XDxScmKc0j8y",
        "outputId": "a862c9ea-0f93-428d-df2d-af0a7630d26f"
      },
      "execution_count": null,
      "outputs": [
        {
          "output_type": "execute_result",
          "data": {
            "text/plain": [
              "0.0"
            ]
          },
          "metadata": {},
          "execution_count": 44
        }
      ]
    },
    {
      "cell_type": "markdown",
      "metadata": {
        "id": "xhEpXq3WjIo_"
      },
      "source": [
        "## Users - OLD"
      ]
    },
    {
      "cell_type": "code",
      "execution_count": null,
      "metadata": {
        "id": "qr5wKOG0S_1J"
      },
      "outputs": [],
      "source": [
        "#users = pd.read_json(\"/content/gdrive/MyDrive/Recommendation_Systems_Activities/TPDL2022/Data/users.json\",lines=True)\n",
        "users = pd.read_json('/content/gdrive/MyDrive/Recommendation_Systems_Activities/Journal/Data/users_june21/users_v3.json')"
      ]
    },
    {
      "cell_type": "code",
      "execution_count": null,
      "metadata": {
        "id": "a0JRQYv5EiyX"
      },
      "outputs": [],
      "source": [
        "def clean_users(user_prof):\n",
        "  pub_counter = 0\n",
        "  sd_counter = 0\n",
        "  for id in user_prof:\n",
        "    item_type = df[df['id'] == id]['type']\n",
        "    for i in item_type:\n",
        "      if str(i) == 'publication':\n",
        "        pub_counter += 1\n",
        "      else:\n",
        "        sd_counter += 1\n",
        "  return sd_counter"
      ]
    },
    {
      "cell_type": "code",
      "execution_count": null,
      "metadata": {
        "id": "CG7r1-m5N359"
      },
      "outputs": [],
      "source": [
        "def clean_users1(user_prof):\n",
        "  pub_counter = 0\n",
        "  sd_counter = 0\n",
        "  for id in user_prof:\n",
        "    item_type = df[df['id'] == id]['type']\n",
        "    for i in item_type:\n",
        "      if str(i) == 'publication':\n",
        "        pub_counter += 1\n",
        "      else:\n",
        "        sd_counter += 1\n",
        "  return pub_counter"
      ]
    },
    {
      "cell_type": "code",
      "execution_count": null,
      "metadata": {
        "id": "LH_xhlF_jLhi"
      },
      "outputs": [],
      "source": [
        "users['sd_counter'] = users['id'].apply(lambda row : clean_users(row))"
      ]
    },
    {
      "cell_type": "code",
      "execution_count": null,
      "metadata": {
        "id": "01beUAIzN5_f"
      },
      "outputs": [],
      "source": [
        "users['pub_counter'] = users['id'].apply(lambda row : clean_users1(row))"
      ]
    },
    {
      "cell_type": "code",
      "execution_count": null,
      "metadata": {
        "id": "w6BhUT56jONH"
      },
      "outputs": [],
      "source": [
        "users = users[users['sd_counter'] != 0 ]"
      ]
    },
    {
      "cell_type": "code",
      "execution_count": null,
      "metadata": {
        "id": "2Bu48gr7ErX2"
      },
      "outputs": [],
      "source": [
        "users.reset_index(drop=True, inplace=True)"
      ]
    },
    {
      "cell_type": "code",
      "execution_count": null,
      "metadata": {
        "colab": {
          "base_uri": "https://localhost:8080/",
          "height": 424
        },
        "id": "g6JOTIhGVXaI",
        "outputId": "774903c9-82db-4d43-bc02-c511873eec00"
      },
      "outputs": [
        {
          "data": {
            "text/html": [
              "\n",
              "  <div id=\"df-f0841fde-081c-4073-867c-15b664323ac7\">\n",
              "    <div class=\"colab-df-container\">\n",
              "      <div>\n",
              "<style scoped>\n",
              "    .dataframe tbody tr th:only-of-type {\n",
              "        vertical-align: middle;\n",
              "    }\n",
              "\n",
              "    .dataframe tbody tr th {\n",
              "        vertical-align: top;\n",
              "    }\n",
              "\n",
              "    .dataframe thead th {\n",
              "        text-align: right;\n",
              "    }\n",
              "</style>\n",
              "<table border=\"1\" class=\"dataframe\">\n",
              "  <thead>\n",
              "    <tr style=\"text-align: right;\">\n",
              "      <th></th>\n",
              "      <th>author_name</th>\n",
              "      <th>id</th>\n",
              "      <th>sd_counter</th>\n",
              "      <th>pub_counter</th>\n",
              "    </tr>\n",
              "  </thead>\n",
              "  <tbody>\n",
              "    <tr>\n",
              "      <th>0</th>\n",
              "      <td>A. Norman, Kenneth</td>\n",
              "      <td>[50|r37980778c78::3dde9a8ae6db8d35cdfb4fd5585c...</td>\n",
              "      <td>6</td>\n",
              "      <td>0</td>\n",
              "    </tr>\n",
              "    <tr>\n",
              "      <th>1</th>\n",
              "      <td>A. Turner, Jessica</td>\n",
              "      <td>[50|r37980778c78::eca395a306186f95e5fbe3b16f68...</td>\n",
              "      <td>6</td>\n",
              "      <td>0</td>\n",
              "    </tr>\n",
              "    <tr>\n",
              "      <th>2</th>\n",
              "      <td>Aja-Fernández, Santiago</td>\n",
              "      <td>[50|r37980778c78::b52f346497320489e3de542b6bdd...</td>\n",
              "      <td>9</td>\n",
              "      <td>1</td>\n",
              "    </tr>\n",
              "    <tr>\n",
              "      <th>3</th>\n",
              "      <td>Amirbekian, Bago</td>\n",
              "      <td>[50|doi_________::c366b2de1b4e34c37362d5eb8f43...</td>\n",
              "      <td>14</td>\n",
              "      <td>0</td>\n",
              "    </tr>\n",
              "    <tr>\n",
              "      <th>4</th>\n",
              "      <td>Amlien, Inge K.</td>\n",
              "      <td>[50|doi_dedup___::d1e4df32d1acb2c2b81455857c8b...</td>\n",
              "      <td>10</td>\n",
              "      <td>1</td>\n",
              "    </tr>\n",
              "    <tr>\n",
              "      <th>...</th>\n",
              "      <td>...</td>\n",
              "      <td>...</td>\n",
              "      <td>...</td>\n",
              "      <td>...</td>\n",
              "    </tr>\n",
              "    <tr>\n",
              "      <th>298</th>\n",
              "      <td>Zhao, Zhilian</td>\n",
              "      <td>[50|r37980778c78::af00ac7d9359d7e4b018bf6887dc...</td>\n",
              "      <td>6</td>\n",
              "      <td>1</td>\n",
              "    </tr>\n",
              "    <tr>\n",
              "      <th>299</th>\n",
              "      <td>Zhong, Ning</td>\n",
              "      <td>[50|r37980778c78::4fcd43dfa35532d0819423b5b7c4...</td>\n",
              "      <td>5</td>\n",
              "      <td>2</td>\n",
              "    </tr>\n",
              "    <tr>\n",
              "      <th>300</th>\n",
              "      <td>Zhou, Haiyan</td>\n",
              "      <td>[50|r37980778c78::4fcd43dfa35532d0819423b5b7c4...</td>\n",
              "      <td>5</td>\n",
              "      <td>1</td>\n",
              "    </tr>\n",
              "    <tr>\n",
              "      <th>301</th>\n",
              "      <td>de Luis-García, Rodrigo</td>\n",
              "      <td>[50|r37980778c78::b52f346497320489e3de542b6bdd...</td>\n",
              "      <td>9</td>\n",
              "      <td>1</td>\n",
              "    </tr>\n",
              "    <tr>\n",
              "      <th>302</th>\n",
              "      <td>van den Bosch, Jasper J.F.</td>\n",
              "      <td>[50|doi_________::c366b2de1b4e34c37362d5eb8f43...</td>\n",
              "      <td>14</td>\n",
              "      <td>0</td>\n",
              "    </tr>\n",
              "  </tbody>\n",
              "</table>\n",
              "<p>303 rows × 4 columns</p>\n",
              "</div>\n",
              "      <button class=\"colab-df-convert\" onclick=\"convertToInteractive('df-f0841fde-081c-4073-867c-15b664323ac7')\"\n",
              "              title=\"Convert this dataframe to an interactive table.\"\n",
              "              style=\"display:none;\">\n",
              "        \n",
              "  <svg xmlns=\"http://www.w3.org/2000/svg\" height=\"24px\"viewBox=\"0 0 24 24\"\n",
              "       width=\"24px\">\n",
              "    <path d=\"M0 0h24v24H0V0z\" fill=\"none\"/>\n",
              "    <path d=\"M18.56 5.44l.94 2.06.94-2.06 2.06-.94-2.06-.94-.94-2.06-.94 2.06-2.06.94zm-11 1L8.5 8.5l.94-2.06 2.06-.94-2.06-.94L8.5 2.5l-.94 2.06-2.06.94zm10 10l.94 2.06.94-2.06 2.06-.94-2.06-.94-.94-2.06-.94 2.06-2.06.94z\"/><path d=\"M17.41 7.96l-1.37-1.37c-.4-.4-.92-.59-1.43-.59-.52 0-1.04.2-1.43.59L10.3 9.45l-7.72 7.72c-.78.78-.78 2.05 0 2.83L4 21.41c.39.39.9.59 1.41.59.51 0 1.02-.2 1.41-.59l7.78-7.78 2.81-2.81c.8-.78.8-2.07 0-2.86zM5.41 20L4 18.59l7.72-7.72 1.47 1.35L5.41 20z\"/>\n",
              "  </svg>\n",
              "      </button>\n",
              "      \n",
              "  <style>\n",
              "    .colab-df-container {\n",
              "      display:flex;\n",
              "      flex-wrap:wrap;\n",
              "      gap: 12px;\n",
              "    }\n",
              "\n",
              "    .colab-df-convert {\n",
              "      background-color: #E8F0FE;\n",
              "      border: none;\n",
              "      border-radius: 50%;\n",
              "      cursor: pointer;\n",
              "      display: none;\n",
              "      fill: #1967D2;\n",
              "      height: 32px;\n",
              "      padding: 0 0 0 0;\n",
              "      width: 32px;\n",
              "    }\n",
              "\n",
              "    .colab-df-convert:hover {\n",
              "      background-color: #E2EBFA;\n",
              "      box-shadow: 0px 1px 2px rgba(60, 64, 67, 0.3), 0px 1px 3px 1px rgba(60, 64, 67, 0.15);\n",
              "      fill: #174EA6;\n",
              "    }\n",
              "\n",
              "    [theme=dark] .colab-df-convert {\n",
              "      background-color: #3B4455;\n",
              "      fill: #D2E3FC;\n",
              "    }\n",
              "\n",
              "    [theme=dark] .colab-df-convert:hover {\n",
              "      background-color: #434B5C;\n",
              "      box-shadow: 0px 1px 3px 1px rgba(0, 0, 0, 0.15);\n",
              "      filter: drop-shadow(0px 1px 2px rgba(0, 0, 0, 0.3));\n",
              "      fill: #FFFFFF;\n",
              "    }\n",
              "  </style>\n",
              "\n",
              "      <script>\n",
              "        const buttonEl =\n",
              "          document.querySelector('#df-f0841fde-081c-4073-867c-15b664323ac7 button.colab-df-convert');\n",
              "        buttonEl.style.display =\n",
              "          google.colab.kernel.accessAllowed ? 'block' : 'none';\n",
              "\n",
              "        async function convertToInteractive(key) {\n",
              "          const element = document.querySelector('#df-f0841fde-081c-4073-867c-15b664323ac7');\n",
              "          const dataTable =\n",
              "            await google.colab.kernel.invokeFunction('convertToInteractive',\n",
              "                                                     [key], {});\n",
              "          if (!dataTable) return;\n",
              "\n",
              "          const docLinkHtml = 'Like what you see? Visit the ' +\n",
              "            '<a target=\"_blank\" href=https://colab.research.google.com/notebooks/data_table.ipynb>data table notebook</a>'\n",
              "            + ' to learn more about interactive tables.';\n",
              "          element.innerHTML = '';\n",
              "          dataTable['output_type'] = 'display_data';\n",
              "          await google.colab.output.renderOutput(dataTable, element);\n",
              "          const docLink = document.createElement('div');\n",
              "          docLink.innerHTML = docLinkHtml;\n",
              "          element.appendChild(docLink);\n",
              "        }\n",
              "      </script>\n",
              "    </div>\n",
              "  </div>\n",
              "  "
            ],
            "text/plain": [
              "                    author_name  \\\n",
              "0            A. Norman, Kenneth   \n",
              "1            A. Turner, Jessica   \n",
              "2       Aja-Fernández, Santiago   \n",
              "3              Amirbekian, Bago   \n",
              "4               Amlien, Inge K.   \n",
              "..                          ...   \n",
              "298               Zhao, Zhilian   \n",
              "299                 Zhong, Ning   \n",
              "300                Zhou, Haiyan   \n",
              "301     de Luis-García, Rodrigo   \n",
              "302  van den Bosch, Jasper J.F.   \n",
              "\n",
              "                                                    id  sd_counter  \\\n",
              "0    [50|r37980778c78::3dde9a8ae6db8d35cdfb4fd5585c...           6   \n",
              "1    [50|r37980778c78::eca395a306186f95e5fbe3b16f68...           6   \n",
              "2    [50|r37980778c78::b52f346497320489e3de542b6bdd...           9   \n",
              "3    [50|doi_________::c366b2de1b4e34c37362d5eb8f43...          14   \n",
              "4    [50|doi_dedup___::d1e4df32d1acb2c2b81455857c8b...          10   \n",
              "..                                                 ...         ...   \n",
              "298  [50|r37980778c78::af00ac7d9359d7e4b018bf6887dc...           6   \n",
              "299  [50|r37980778c78::4fcd43dfa35532d0819423b5b7c4...           5   \n",
              "300  [50|r37980778c78::4fcd43dfa35532d0819423b5b7c4...           5   \n",
              "301  [50|r37980778c78::b52f346497320489e3de542b6bdd...           9   \n",
              "302  [50|doi_________::c366b2de1b4e34c37362d5eb8f43...          14   \n",
              "\n",
              "     pub_counter  \n",
              "0              0  \n",
              "1              0  \n",
              "2              1  \n",
              "3              0  \n",
              "4              1  \n",
              "..           ...  \n",
              "298            1  \n",
              "299            2  \n",
              "300            1  \n",
              "301            1  \n",
              "302            0  \n",
              "\n",
              "[303 rows x 4 columns]"
            ]
          },
          "execution_count": 40,
          "metadata": {},
          "output_type": "execute_result"
        }
      ],
      "source": [
        "users"
      ]
    },
    {
      "cell_type": "code",
      "execution_count": null,
      "metadata": {
        "id": "3QHZKnkv9VNx"
      },
      "outputs": [],
      "source": [
        "import numpy"
      ]
    },
    {
      "cell_type": "code",
      "execution_count": null,
      "metadata": {
        "id": "hjGd2-mW6C5u"
      },
      "outputs": [],
      "source": [
        ""
      ]
    },
    {
      "cell_type": "code",
      "execution_count": null,
      "metadata": {
        "id": "CnJVnYK8FHLN"
      },
      "outputs": [],
      "source": [
        "def leave_one_cv(profile_items):\n",
        "   for item in profile_items:\n",
        "      item_type = df[df['id'] == item]['type'].tolist()\n",
        "      if item_type[0] != 'publication':\n",
        "        users['id'] = users['id'].apply(lambda x:[i for i in x if i != item])\n",
        "        return item\n",
        "      "
      ]
    },
    {
      "cell_type": "code",
      "execution_count": null,
      "metadata": {
        "id": "5UfW-yhKFIIO"
      },
      "outputs": [],
      "source": [
        "users['leave_one_cv'] = users['id'].apply(lambda x:leave_one_cv(x))"
      ]
    },
    {
      "cell_type": "code",
      "execution_count": null,
      "metadata": {
        "id": "WL_tZ77OFpp5"
      },
      "outputs": [],
      "source": [
        "users['recommended_items'] = users['id'].apply(lambda s:rec_user1(s)) "
      ]
    },
    {
      "cell_type": "markdown",
      "metadata": {
        "id": "2JVOPHmHpG4E"
      },
      "source": [
        "## Evaluation - OLD"
      ]
    },
    {
      "cell_type": "code",
      "execution_count": null,
      "metadata": {
        "id": "0C81yY_BpbOD"
      },
      "outputs": [],
      "source": [
        "def get_keys(profile):\n",
        "  mylist = []\n",
        "  for id_p in profile:\n",
        "    for id in df['id']:\n",
        "      if id_p == id:\n",
        "        mylist.append(df.loc[df['id'] == id, 'keyword'].iloc[0] )\n",
        "  return mylist"
      ]
    },
    {
      "cell_type": "code",
      "execution_count": null,
      "metadata": {
        "id": "Q5xfTnIzu4Bl"
      },
      "outputs": [],
      "source": [
        ""
      ]
    },
    {
      "cell_type": "code",
      "execution_count": null,
      "metadata": {
        "id": "Wxn45raErd-0"
      },
      "outputs": [],
      "source": [
        "users['profile_keywords'] = users['profile'].map(lambda x:get_keys(x))"
      ]
    },
    {
      "cell_type": "code",
      "execution_count": null,
      "metadata": {
        "id": "Jo8mmJLVtHOp"
      },
      "outputs": [],
      "source": [
        "users['recommended_keywords'] = users['recommended_items'].map(lambda x:get_keys(x))"
      ]
    },
    {
      "cell_type": "code",
      "execution_count": null,
      "metadata": {
        "id": "hTX0avqLDPzu"
      },
      "outputs": [],
      "source": [
        "users['profile_keywords'] = users['profile_keywords'].map(lambda x:list(set([item if type(sublist) is list else sublist for sublist in x for item in sublist])))"
      ]
    },
    {
      "cell_type": "code",
      "execution_count": null,
      "metadata": {
        "id": "AnHW1-8ED_OU"
      },
      "outputs": [],
      "source": [
        "#users['recommended_keywords'] = users['recommended_keywords'].map(lambda x:list(set([item if type(sublist) is list else sublist for sublist in x for item in sublist])))"
      ]
    },
    {
      "cell_type": "code",
      "execution_count": null,
      "metadata": {
        "id": "wRaP3rWuHQyP"
      },
      "outputs": [],
      "source": [
        "#users['profile_keywords'] = [','.join(map(str, l)) for l in users['profile_keywords']] #list to str\n"
      ]
    },
    {
      "cell_type": "code",
      "execution_count": null,
      "metadata": {
        "id": "hPOn0C8tHX2P"
      },
      "outputs": [],
      "source": [
        "#users['recommended_keywords'] = [','.join(map(str, l)) for l in users['recommended_keywords']] #list to str\n"
      ]
    },
    {
      "cell_type": "code",
      "execution_count": null,
      "metadata": {
        "id": "Bazj7hMCJJDQ"
      },
      "outputs": [],
      "source": [
        "#users['recommended_keywords'] = users['recommended_keywords'].str.strip('').str.split(',')#str to list\n"
      ]
    },
    {
      "cell_type": "code",
      "execution_count": null,
      "metadata": {
        "id": "g7EwpnCmRC7J"
      },
      "outputs": [],
      "source": [
        "#users['profile_keywords'] = users['profile_keywords'].str.strip('').str.split(',') #str to list\n"
      ]
    },
    {
      "cell_type": "code",
      "execution_count": null,
      "metadata": {
        "id": "F7pZ8ceWyRuu"
      },
      "outputs": [],
      "source": [
        "def counter(user):\n",
        "  count = 0\n",
        "  mylist = []\n",
        "  for item_list in user['recommended_keywords']:\n",
        "    for item in item_list:\n",
        "      if item in user[\"profile_keywords\"]:\n",
        "        count+=1\n",
        "    mylist.append(count)\n",
        "    count = 0\n",
        "  return mylist\n",
        "    "
      ]
    },
    {
      "cell_type": "code",
      "execution_count": null,
      "metadata": {
        "id": "y1-EKNqgh2qG"
      },
      "outputs": [],
      "source": [
        "users['counter'] = users.apply(lambda row : counter(row),axis=1)\n"
      ]
    },
    {
      "cell_type": "code",
      "execution_count": null,
      "metadata": {
        "id": "F-nnLnOozq3p"
      },
      "outputs": [],
      "source": [
        "pd.set_option('display.max_rows', None)\n"
      ]
    },
    {
      "cell_type": "code",
      "execution_count": null,
      "metadata": {
        "id": "M8tE1canzTnc"
      },
      "outputs": [],
      "source": [
        "def norm_counters(user):\n",
        "  new_list = []\n",
        "  for item in user['counter']:\n",
        "    new_item = item/len(user['profile_keywords'])\n",
        "    new_list.append(new_item)\n",
        "  return new_list"
      ]
    },
    {
      "cell_type": "code",
      "execution_count": null,
      "metadata": {
        "id": "CDQPOo_J0AKR"
      },
      "outputs": [],
      "source": [
        "users['norm_counter'] = users.apply(lambda x:norm_counters(x),axis=1)"
      ]
    },
    {
      "cell_type": "code",
      "execution_count": null,
      "metadata": {
        "id": "3FJHt8jd3rHd"
      },
      "outputs": [],
      "source": [
        "my_th = users['norm_counter'][0]"
      ]
    },
    {
      "cell_type": "code",
      "execution_count": null,
      "metadata": {
        "id": "EGvQ8uc00WkH"
      },
      "outputs": [],
      "source": [
        "## Putting threshhold"
      ]
    },
    {
      "cell_type": "code",
      "execution_count": null,
      "metadata": {
        "id": "-DofKfIf7VP0"
      },
      "outputs": [],
      "source": [
        "def put_thr(user):\n",
        "  new_counter = []\n",
        "  thr = 0.1\n",
        "\n",
        "  for num in user['counter']:\n",
        "    if num > thr:\n",
        "      num = 1\n",
        "      new_counter.append(num)\n",
        "    else:\n",
        "      num = 0\n",
        "      new_counter.append(num)\n",
        "  return new_counter\n"
      ]
    },
    {
      "cell_type": "code",
      "execution_count": null,
      "metadata": {
        "id": "sAXD9ZCz7V_4"
      },
      "outputs": [],
      "source": [
        "users['relevant_list'] = users.apply(lambda x:put_thr(x),axis=1)"
      ]
    },
    {
      "cell_type": "code",
      "execution_count": null,
      "metadata": {
        "id": "FhhFG4929JRb"
      },
      "outputs": [],
      "source": [
        "users.to_json('users_evaluation_3.json')"
      ]
    },
    {
      "cell_type": "code",
      "execution_count": null,
      "metadata": {
        "colab": {
          "base_uri": "https://localhost:8080/"
        },
        "id": "DAQqD8X_hOUR",
        "outputId": "bf09dcde-f491-45ae-91bf-76db429a613e"
      },
      "outputs": [
        {
          "data": {
            "text/plain": [
              "0           [1, 3, 0, 1, 1, 0, 4, 2, 0, 4]\n",
              "1        [10, 1, 1, 7, 1, 4, 11, 7, 11, 3]\n",
              "2           [1, 3, 1, 2, 1, 2, 1, 0, 2, 4]\n",
              "3           [5, 5, 0, 6, 6, 7, 0, 5, 2, 4]\n",
              "4         [1, 2, 12, 1, 24, 0, 3, 1, 2, 3]\n",
              "5           [3, 0, 5, 4, 2, 6, 0, 6, 0, 5]\n",
              "6           [1, 3, 0, 1, 1, 0, 4, 2, 0, 4]\n",
              "7           [1, 2, 0, 0, 2, 1, 4, 1, 1, 1]\n",
              "8           [3, 0, 0, 0, 0, 0, 1, 0, 1, 3]\n",
              "9           [1, 1, 2, 2, 1, 2, 2, 7, 1, 1]\n",
              "10          [8, 7, 0, 3, 8, 9, 5, 5, 6, 3]\n",
              "11          [0, 4, 2, 5, 6, 5, 5, 3, 1, 0]\n",
              "12          [4, 6, 2, 5, 0, 6, 3, 1, 1, 0]\n",
              "13          [7, 2, 1, 1, 5, 5, 2, 1, 7, 2]\n",
              "14        [9, 12, 2, 1, 2, 14, 0, 9, 1, 1]\n",
              "15          [6, 9, 7, 4, 9, 3, 6, 6, 6, 9]\n",
              "16         [11, 4, 1, 0, 1, 0, 1, 0, 6, 8]\n",
              "17          [6, 5, 3, 5, 2, 1, 2, 5, 0, 0]\n",
              "18          [0, 3, 0, 1, 1, 0, 1, 1, 0, 0]\n",
              "19        [11, 2, 0, 0, 1, 11, 8, 2, 9, 7]\n",
              "20          [4, 6, 2, 5, 0, 6, 3, 1, 1, 0]\n",
              "21       [10, 1, 1, 7, 1, 4, 11, 7, 11, 3]\n",
              "22         [9, 9, 1, 1, 6, 2, 4, 5, 11, 1]\n",
              "23       [10, 1, 1, 7, 1, 4, 11, 7, 11, 3]\n",
              "24          [0, 3, 7, 1, 5, 9, 6, 6, 6, 1]\n",
              "25          [1, 2, 0, 0, 2, 1, 4, 1, 1, 1]\n",
              "26          [6, 5, 3, 0, 6, 2, 0, 2, 5, 0]\n",
              "27       [10, 1, 1, 7, 1, 4, 11, 7, 11, 3]\n",
              "28        [0, 19, 17, 3, 5, 7, 1, 9, 6, 1]\n",
              "29          [1, 3, 0, 1, 1, 0, 4, 2, 0, 4]\n",
              "30          [3, 0, 0, 0, 0, 0, 1, 0, 1, 3]\n",
              "31          [3, 0, 0, 0, 0, 0, 1, 0, 1, 3]\n",
              "32          [0, 4, 2, 6, 5, 3, 5, 5, 1, 0]\n",
              "33         [0, 1, 11, 2, 7, 2, 0, 0, 6, 4]\n",
              "34     [16, 8, 1, 8, 8, 6, 15, 11, 14, 12]\n",
              "35         [3, 7, 1, 0, 2, 16, 8, 9, 1, 8]\n",
              "36          [0, 3, 7, 1, 5, 9, 6, 6, 6, 1]\n",
              "37          [1, 3, 0, 1, 1, 0, 4, 2, 0, 4]\n",
              "38          [5, 0, 4, 0, 2, 5, 6, 3, 5, 1]\n",
              "39          [7, 2, 1, 1, 5, 5, 2, 1, 7, 2]\n",
              "40          [5, 2, 0, 2, 2, 1, 2, 5, 3, 2]\n",
              "41          [0, 3, 0, 1, 1, 0, 1, 1, 0, 0]\n",
              "42         [8, 7, 1, 0, 0, 4, 4, 0, 3, 10]\n",
              "43          [0, 0, 0, 0, 1, 2, 0, 0, 2, 1]\n",
              "44          [1, 3, 0, 1, 1, 0, 4, 2, 0, 4]\n",
              "45         [13, 8, 0, 3, 2, 1, 2, 4, 0, 0]\n",
              "46         [5, 0, 4, 8, 5, 5, 6, 5, 9, 11]\n",
              "47          [7, 2, 1, 1, 5, 5, 2, 1, 7, 2]\n",
              "48          [5, 6, 1, 5, 0, 1, 5, 2, 4, 5]\n",
              "49     [9, 5, 2, 10, 10, 15, 7, 10, 2, 10]\n",
              "50          [8, 0, 3, 5, 7, 5, 8, 3, 5, 9]\n",
              "51        [9, 9, 0, 1, 1, 2, 1, 11, 11, 4]\n",
              "52          [0, 0, 0, 1, 1, 0, 0, 0, 1, 1]\n",
              "53          [7, 2, 1, 1, 5, 5, 2, 1, 7, 2]\n",
              "54       [10, 1, 1, 7, 1, 4, 11, 7, 11, 3]\n",
              "55          [1, 2, 0, 0, 2, 1, 4, 1, 1, 1]\n",
              "56          [1, 2, 2, 1, 3, 7, 3, 8, 1, 3]\n",
              "57          [0, 8, 0, 3, 3, 3, 6, 2, 3, 2]\n",
              "58         [2, 8, 8, 2, 11, 8, 7, 2, 1, 0]\n",
              "59          [3, 4, 5, 0, 2, 1, 2, 0, 5, 5]\n",
              "60          [1, 3, 0, 1, 1, 0, 4, 2, 0, 4]\n",
              "61          [5, 2, 1, 0, 1, 3, 0, 3, 1, 5]\n",
              "62         [10, 1, 4, 8, 3, 1, 2, 3, 3, 4]\n",
              "63       [10, 1, 1, 7, 1, 4, 11, 7, 11, 3]\n",
              "64          [0, 3, 7, 1, 5, 9, 6, 6, 6, 1]\n",
              "65          [3, 0, 0, 0, 0, 0, 1, 0, 1, 3]\n",
              "66          [0, 0, 0, 0, 1, 1, 2, 0, 5, 0]\n",
              "67       [10, 1, 1, 7, 1, 4, 11, 7, 11, 3]\n",
              "68       [10, 1, 1, 7, 1, 4, 11, 7, 11, 3]\n",
              "69          [6, 1, 6, 2, 3, 0, 6, 1, 2, 6]\n",
              "70          [0, 0, 0, 0, 1, 2, 0, 0, 2, 1]\n",
              "71         [0, 0, 11, 8, 7, 0, 0, 0, 0, 6]\n",
              "72        [4, 3, 2, 5, 1, 2, 12, 3, 14, 0]\n",
              "73          [5, 6, 5, 7, 2, 4, 4, 5, 0, 7]\n",
              "74         [4, 6, 3, 8, 10, 8, 8, 6, 5, 3]\n",
              "75        [2, 11, 12, 2, 0, 2, 7, 0, 0, 1]\n",
              "76          [0, 3, 7, 1, 5, 9, 6, 6, 6, 1]\n",
              "77         [2, 8, 8, 2, 11, 8, 7, 2, 1, 0]\n",
              "78          [0, 3, 7, 1, 5, 9, 6, 6, 6, 1]\n",
              "79          [3, 5, 5, 0, 2, 2, 5, 0, 5, 5]\n",
              "80       [10, 1, 1, 7, 1, 4, 11, 7, 11, 3]\n",
              "81        [16, 8, 3, 1, 11, 9, 1, 5, 7, 0]\n",
              "82          [0, 3, 7, 1, 5, 9, 6, 6, 6, 1]\n",
              "83          [7, 2, 1, 1, 5, 5, 2, 1, 7, 2]\n",
              "84         [2, 8, 8, 2, 11, 8, 7, 2, 1, 0]\n",
              "85          [8, 6, 9, 0, 7, 3, 5, 6, 4, 6]\n",
              "86          [0, 8, 0, 3, 3, 3, 6, 2, 3, 2]\n",
              "87          [0, 3, 7, 1, 5, 9, 6, 6, 6, 1]\n",
              "88          [3, 5, 6, 2, 5, 0, 0, 1, 3, 6]\n",
              "89        [4, 0, 12, 1, 0, 2, 2, 2, 12, 1]\n",
              "90       [10, 1, 1, 7, 1, 4, 11, 7, 11, 3]\n",
              "91          [7, 2, 1, 1, 5, 5, 2, 1, 7, 2]\n",
              "92       [10, 1, 1, 7, 1, 4, 11, 7, 11, 3]\n",
              "93         [5, 5, 1, 1, 4, 5, 10, 6, 5, 4]\n",
              "94          [7, 2, 1, 1, 5, 5, 2, 1, 7, 2]\n",
              "95          [1, 3, 0, 1, 1, 0, 4, 2, 0, 4]\n",
              "96          [0, 1, 0, 0, 9, 1, 5, 0, 0, 4]\n",
              "97        [1, 18, 1, 1, 13, 0, 7, 0, 7, 8]\n",
              "98          [0, 8, 0, 3, 3, 3, 6, 2, 3, 2]\n",
              "99         [9, 9, 0, 1, 0, 1, 1, 11, 2, 2]\n",
              "100         [7, 2, 1, 1, 5, 5, 2, 1, 7, 2]\n",
              "101      [10, 1, 1, 7, 1, 4, 11, 7, 11, 3]\n",
              "102        [0, 3, 17, 7, 5, 1, 6, 5, 9, 1]\n",
              "103      [10, 1, 1, 7, 1, 4, 11, 7, 11, 3]\n",
              "104         [0, 0, 0, 1, 1, 0, 0, 0, 1, 1]\n",
              "105      [10, 1, 1, 7, 1, 4, 11, 7, 11, 3]\n",
              "106         [6, 6, 3, 6, 6, 4, 2, 4, 2, 3]\n",
              "107         [5, 6, 2, 7, 2, 8, 8, 6, 7, 6]\n",
              "108        [5, 3, 1, 2, 11, 1, 0, 1, 1, 1]\n",
              "109         [0, 0, 0, 1, 1, 0, 0, 0, 1, 1]\n",
              "110         [5, 4, 5, 0, 6, 5, 2, 2, 0, 5]\n",
              "111         [0, 3, 7, 5, 8, 9, 4, 7, 9, 2]\n",
              "112     [5, 5, 10, 1, 10, 20, 13, 8, 4, 6]\n",
              "113         [4, 6, 2, 5, 0, 6, 3, 1, 1, 0]\n",
              "114         [3, 4, 5, 0, 2, 1, 2, 0, 5, 5]\n",
              "115         [1, 2, 0, 0, 2, 1, 4, 1, 1, 1]\n",
              "116         [6, 0, 5, 3, 0, 5, 2, 0, 2, 5]\n",
              "117      [10, 1, 1, 7, 1, 4, 11, 7, 11, 3]\n",
              "Name: counter, dtype: object"
            ]
          },
          "execution_count": 40,
          "metadata": {},
          "output_type": "execute_result"
        }
      ],
      "source": [
        "users[\"counter\"]"
      ]
    },
    {
      "cell_type": "markdown",
      "metadata": {
        "id": "ru8bFlbQD26S"
      },
      "source": [
        "## Graph-based Evaluation - OLD"
      ]
    },
    {
      "cell_type": "code",
      "execution_count": null,
      "metadata": {
        "id": "MetHeIdk7I9c"
      },
      "outputs": [],
      "source": [
        "relations = pd.read_json(\"/content/gdrive/MyDrive/Recommendation_Systems_Activities/TPDL2022/Data/data_with_relations_v1/relations.json\",lines=True)"
      ]
    },
    {
      "cell_type": "code",
      "execution_count": null,
      "metadata": {
        "colab": {
          "base_uri": "https://localhost:8080/",
          "height": 461
        },
        "id": "TMHd_ScgEDPG",
        "outputId": "b0e23aff-1465-4874-f9cb-55649bc41a98"
      },
      "outputs": [
        {
          "data": {
            "text/html": [
              "\n",
              "  <div id=\"df-deb544e4-29bb-47e8-a1cd-9f6f3f328470\">\n",
              "    <div class=\"colab-df-container\">\n",
              "      <div>\n",
              "<style scoped>\n",
              "    .dataframe tbody tr th:only-of-type {\n",
              "        vertical-align: middle;\n",
              "    }\n",
              "\n",
              "    .dataframe tbody tr th {\n",
              "        vertical-align: top;\n",
              "    }\n",
              "\n",
              "    .dataframe thead th {\n",
              "        text-align: right;\n",
              "    }\n",
              "</style>\n",
              "<table border=\"1\" class=\"dataframe\">\n",
              "  <thead>\n",
              "    <tr style=\"text-align: right;\">\n",
              "      <th></th>\n",
              "      <th>user</th>\n",
              "      <th>profile</th>\n",
              "      <th>profile_items</th>\n",
              "      <th>recommended_items</th>\n",
              "      <th>profile_keywords</th>\n",
              "      <th>recommended_keywords</th>\n",
              "      <th>counter</th>\n",
              "    </tr>\n",
              "  </thead>\n",
              "  <tbody>\n",
              "    <tr>\n",
              "      <th>0</th>\n",
              "      <td>Goeree, Ron</td>\n",
              "      <td>[50|r37980778c78::5d884a4d53183be71aee1935e9de...</td>\n",
              "      <td>[50|r37980778c78::5d884a4d53183be71aee1935e9de...</td>\n",
              "      <td>[50|r37980778c78::1a73ff1dddeee3d70c0f263443c0...</td>\n",
              "      <td>[temporal, Science Policy, systematic, fmri, e...</td>\n",
              "      <td>[[Neuroscience, Sociology, Developmental Biolo...</td>\n",
              "      <td>[1, 3, 0, 1, 1, 0, 4, 2, 0, 4]</td>\n",
              "    </tr>\n",
              "    <tr>\n",
              "      <th>1</th>\n",
              "      <td>Ottaviani, Diego</td>\n",
              "      <td>[50|doi_dedup___::b2ff6d882e4c408075d34e755e6c...</td>\n",
              "      <td>[50|doi_dedup___::b2ff6d882e4c408075d34e755e6c...</td>\n",
              "      <td>[50|doi_________::eceb0ae0ffc39497f8c5280cf3dc...</td>\n",
              "      <td>[Physiology, FOS: Health sciences, Sociology, ...</td>\n",
              "      <td>[[Space Science, Medicine, Cell Biology, Physi...</td>\n",
              "      <td>[10, 1, 1, 7, 1, 4, 11, 7, 11, 3]</td>\n",
              "    </tr>\n",
              "    <tr>\n",
              "      <th>2</th>\n",
              "      <td>He, Sheng</td>\n",
              "      <td>[50|doi_________::5de5ab6d89e9762cdc7c09f64ae5...</td>\n",
              "      <td>[50|doi_________::5de5ab6d89e9762cdc7c09f64ae5...</td>\n",
              "      <td>[50|r37980778c78::4211c2946bd80183b514184fa60b...</td>\n",
              "      <td>[Physiology, visual perception, reflects, Medi...</td>\n",
              "      <td>[[Medicine, Biological Sciences, neuroscience,...</td>\n",
              "      <td>[1, 3, 1, 2, 1, 2, 1, 0, 2, 4]</td>\n",
              "    </tr>\n",
              "    <tr>\n",
              "      <th>3</th>\n",
              "      <td>Kent, James D.</td>\n",
              "      <td>[50|r37980778c78::ff9ef9488ec24e8638aab2e4aeaa...</td>\n",
              "      <td>[50|doi_________::3987780588ec254078aad955fb41...</td>\n",
              "      <td>[50|doi_________::64abcbec05fcc66a18708ab2ae84...</td>\n",
              "      <td>[Physiology, Sociology, Medicine, Science Poli...</td>\n",
              "      <td>[[neuroimaging, betaseries, analysis, fMRI, BI...</td>\n",
              "      <td>[5, 5, 0, 6, 6, 7, 0, 5, 2, 4]</td>\n",
              "    </tr>\n",
              "    <tr>\n",
              "      <th>4</th>\n",
              "      <td>Ioanas, Horea-Ioan</td>\n",
              "      <td>[50|doi_dedup___::4566d7cf98d9c145aa76997bc61b...</td>\n",
              "      <td>[50|doi_dedup___::4566d7cf98d9c145aa76997bc61b...</td>\n",
              "      <td>[50|doi_dedup___::5c9f46e8b70db1991c613f4b9bca...</td>\n",
              "      <td>[Physiology, Sociology, rodents, Medicine, pre...</td>\n",
              "      <td>[[Genetics, FOS: Biological sciences, Develop ...</td>\n",
              "      <td>[1, 2, 12, 1, 24, 0, 3, 1, 2, 3]</td>\n",
              "    </tr>\n",
              "  </tbody>\n",
              "</table>\n",
              "</div>\n",
              "      <button class=\"colab-df-convert\" onclick=\"convertToInteractive('df-deb544e4-29bb-47e8-a1cd-9f6f3f328470')\"\n",
              "              title=\"Convert this dataframe to an interactive table.\"\n",
              "              style=\"display:none;\">\n",
              "        \n",
              "  <svg xmlns=\"http://www.w3.org/2000/svg\" height=\"24px\"viewBox=\"0 0 24 24\"\n",
              "       width=\"24px\">\n",
              "    <path d=\"M0 0h24v24H0V0z\" fill=\"none\"/>\n",
              "    <path d=\"M18.56 5.44l.94 2.06.94-2.06 2.06-.94-2.06-.94-.94-2.06-.94 2.06-2.06.94zm-11 1L8.5 8.5l.94-2.06 2.06-.94-2.06-.94L8.5 2.5l-.94 2.06-2.06.94zm10 10l.94 2.06.94-2.06 2.06-.94-2.06-.94-.94-2.06-.94 2.06-2.06.94z\"/><path d=\"M17.41 7.96l-1.37-1.37c-.4-.4-.92-.59-1.43-.59-.52 0-1.04.2-1.43.59L10.3 9.45l-7.72 7.72c-.78.78-.78 2.05 0 2.83L4 21.41c.39.39.9.59 1.41.59.51 0 1.02-.2 1.41-.59l7.78-7.78 2.81-2.81c.8-.78.8-2.07 0-2.86zM5.41 20L4 18.59l7.72-7.72 1.47 1.35L5.41 20z\"/>\n",
              "  </svg>\n",
              "      </button>\n",
              "      \n",
              "  <style>\n",
              "    .colab-df-container {\n",
              "      display:flex;\n",
              "      flex-wrap:wrap;\n",
              "      gap: 12px;\n",
              "    }\n",
              "\n",
              "    .colab-df-convert {\n",
              "      background-color: #E8F0FE;\n",
              "      border: none;\n",
              "      border-radius: 50%;\n",
              "      cursor: pointer;\n",
              "      display: none;\n",
              "      fill: #1967D2;\n",
              "      height: 32px;\n",
              "      padding: 0 0 0 0;\n",
              "      width: 32px;\n",
              "    }\n",
              "\n",
              "    .colab-df-convert:hover {\n",
              "      background-color: #E2EBFA;\n",
              "      box-shadow: 0px 1px 2px rgba(60, 64, 67, 0.3), 0px 1px 3px 1px rgba(60, 64, 67, 0.15);\n",
              "      fill: #174EA6;\n",
              "    }\n",
              "\n",
              "    [theme=dark] .colab-df-convert {\n",
              "      background-color: #3B4455;\n",
              "      fill: #D2E3FC;\n",
              "    }\n",
              "\n",
              "    [theme=dark] .colab-df-convert:hover {\n",
              "      background-color: #434B5C;\n",
              "      box-shadow: 0px 1px 3px 1px rgba(0, 0, 0, 0.15);\n",
              "      filter: drop-shadow(0px 1px 2px rgba(0, 0, 0, 0.3));\n",
              "      fill: #FFFFFF;\n",
              "    }\n",
              "  </style>\n",
              "\n",
              "      <script>\n",
              "        const buttonEl =\n",
              "          document.querySelector('#df-deb544e4-29bb-47e8-a1cd-9f6f3f328470 button.colab-df-convert');\n",
              "        buttonEl.style.display =\n",
              "          google.colab.kernel.accessAllowed ? 'block' : 'none';\n",
              "\n",
              "        async function convertToInteractive(key) {\n",
              "          const element = document.querySelector('#df-deb544e4-29bb-47e8-a1cd-9f6f3f328470');\n",
              "          const dataTable =\n",
              "            await google.colab.kernel.invokeFunction('convertToInteractive',\n",
              "                                                     [key], {});\n",
              "          if (!dataTable) return;\n",
              "\n",
              "          const docLinkHtml = 'Like what you see? Visit the ' +\n",
              "            '<a target=\"_blank\" href=https://colab.research.google.com/notebooks/data_table.ipynb>data table notebook</a>'\n",
              "            + ' to learn more about interactive tables.';\n",
              "          element.innerHTML = '';\n",
              "          dataTable['output_type'] = 'display_data';\n",
              "          await google.colab.output.renderOutput(dataTable, element);\n",
              "          const docLink = document.createElement('div');\n",
              "          docLink.innerHTML = docLinkHtml;\n",
              "          element.appendChild(docLink);\n",
              "        }\n",
              "      </script>\n",
              "    </div>\n",
              "  </div>\n",
              "  "
            ],
            "text/plain": [
              "                 user                                            profile  \\\n",
              "0         Goeree, Ron  [50|r37980778c78::5d884a4d53183be71aee1935e9de...   \n",
              "1    Ottaviani, Diego  [50|doi_dedup___::b2ff6d882e4c408075d34e755e6c...   \n",
              "2           He, Sheng  [50|doi_________::5de5ab6d89e9762cdc7c09f64ae5...   \n",
              "3      Kent, James D.  [50|r37980778c78::ff9ef9488ec24e8638aab2e4aeaa...   \n",
              "4  Ioanas, Horea-Ioan  [50|doi_dedup___::4566d7cf98d9c145aa76997bc61b...   \n",
              "\n",
              "                                       profile_items  \\\n",
              "0  [50|r37980778c78::5d884a4d53183be71aee1935e9de...   \n",
              "1  [50|doi_dedup___::b2ff6d882e4c408075d34e755e6c...   \n",
              "2  [50|doi_________::5de5ab6d89e9762cdc7c09f64ae5...   \n",
              "3  [50|doi_________::3987780588ec254078aad955fb41...   \n",
              "4  [50|doi_dedup___::4566d7cf98d9c145aa76997bc61b...   \n",
              "\n",
              "                                   recommended_items  \\\n",
              "0  [50|r37980778c78::1a73ff1dddeee3d70c0f263443c0...   \n",
              "1  [50|doi_________::eceb0ae0ffc39497f8c5280cf3dc...   \n",
              "2  [50|r37980778c78::4211c2946bd80183b514184fa60b...   \n",
              "3  [50|doi_________::64abcbec05fcc66a18708ab2ae84...   \n",
              "4  [50|doi_dedup___::5c9f46e8b70db1991c613f4b9bca...   \n",
              "\n",
              "                                    profile_keywords  \\\n",
              "0  [temporal, Science Policy, systematic, fmri, e...   \n",
              "1  [Physiology, FOS: Health sciences, Sociology, ...   \n",
              "2  [Physiology, visual perception, reflects, Medi...   \n",
              "3  [Physiology, Sociology, Medicine, Science Poli...   \n",
              "4  [Physiology, Sociology, rodents, Medicine, pre...   \n",
              "\n",
              "                                recommended_keywords  \\\n",
              "0  [[Neuroscience, Sociology, Developmental Biolo...   \n",
              "1  [[Space Science, Medicine, Cell Biology, Physi...   \n",
              "2  [[Medicine, Biological Sciences, neuroscience,...   \n",
              "3  [[neuroimaging, betaseries, analysis, fMRI, BI...   \n",
              "4  [[Genetics, FOS: Biological sciences, Develop ...   \n",
              "\n",
              "                             counter  \n",
              "0     [1, 3, 0, 1, 1, 0, 4, 2, 0, 4]  \n",
              "1  [10, 1, 1, 7, 1, 4, 11, 7, 11, 3]  \n",
              "2     [1, 3, 1, 2, 1, 2, 1, 0, 2, 4]  \n",
              "3     [5, 5, 0, 6, 6, 7, 0, 5, 2, 4]  \n",
              "4   [1, 2, 12, 1, 24, 0, 3, 1, 2, 3]  "
            ]
          },
          "execution_count": 42,
          "metadata": {},
          "output_type": "execute_result"
        }
      ],
      "source": [
        "users.head()"
      ]
    },
    {
      "cell_type": "code",
      "execution_count": null,
      "metadata": {
        "colab": {
          "base_uri": "https://localhost:8080/"
        },
        "id": "N6nW48F0PQx2",
        "outputId": "f69566f5-0467-4e72-885b-53c5653f0a6a"
      },
      "outputs": [
        {
          "data": {
            "text/plain": [
              "['50|r37980778c78::5d884a4d53183be71aee1935e9deb69d',\n",
              " '50|r37980778c78::4e164f63539c6271c0501cd9aa2ffb1c',\n",
              " '50|r37980778c78::2db82072751e1d4138e13e552155ad26',\n",
              " '50|r37980778c78::6ec9417e65f405165fd98bc7162a2e70',\n",
              " '50|r37980778c78::8e1cfb89b795595821b39cb401af9dcb',\n",
              " '50|r37980778c78::1a63366370fc8fd83a490e721f7eb2a9',\n",
              " '50|r37980778c78::e31b4a4561029b3619d7ed2bcacd42b1',\n",
              " '50|r37980778c78::4e1644dc866ecc6f9a13fd750c868238',\n",
              " '50|r37980778c78::868677027caa38c2db1ddacce7e53d72',\n",
              " '50|r37980778c78::5ba3e79c05baeb92fcd3d7c9eed664e6',\n",
              " '50|r37980778c78::db8cd6a8f3cbd3707ce6c78eaaabcaa5',\n",
              " '50|r37980778c78::9e36793997275ae1a9ebf52b84a57a90',\n",
              " '50|r37980778c78::c3040539c1bbfe6df425c957ce212493']"
            ]
          },
          "execution_count": 30,
          "metadata": {},
          "output_type": "execute_result"
        }
      ],
      "source": [
        "users['profile_items'][0]"
      ]
    },
    {
      "cell_type": "code",
      "execution_count": null,
      "metadata": {
        "id": "ZZd8MRqzENjw"
      },
      "outputs": [],
      "source": [
        "def evaluation(user_profile,rec_to_user):\n",
        "  hits = [] \n",
        "  # users_related_items = list(pd.merge(user,relations,left_on='profile',right_on='source')['target'])\n",
        "  # users_related_items.append(list(pd.merge(user,relations,left_on='profile',right_on='target')['source']))\n",
        "  relations['indicator'] = relations['source'].isin(user_profile)\n",
        "  target_items = relations.loc[relations['indicator'] == True]['target']\n",
        "  relations['indicator'] = relations['target'].isin(user_profile)\n",
        "  source_items = relations.loc[relations['indicator'] == True]['source']\n",
        "  for item in rec_to_user:\n",
        "    contains = False\n",
        "    if item in list(source_items):\n",
        "      contains = True\n",
        "    if item in list(target_items):\n",
        "      contains = True\n",
        "    hits.append(contains)\n",
        "  return hits"
      ]
    },
    {
      "cell_type": "code",
      "execution_count": null,
      "metadata": {
        "colab": {
          "base_uri": "https://localhost:8080/"
        },
        "id": "0QMGuyQ2Q5t9",
        "outputId": "8591f607-d765-4948-ff5f-e1c9f4307f4b"
      },
      "outputs": [
        {
          "name": "stdout",
          "output_type": "stream",
          "text": [
            "ok\n",
            "ok\n",
            "ok\n",
            "ok\n",
            "ok\n",
            "ok\n",
            "ok\n",
            "ok\n",
            "ok\n",
            "ok\n",
            "ok\n",
            "ok\n",
            "ok\n",
            "ok\n",
            "ok\n"
          ]
        }
      ],
      "source": [
        "users['graph_evaluation'] = users.apply(lambda row : evaluation(row['profile_items'],row['recommended_items']),axis=1)"
      ]
    },
    {
      "cell_type": "code",
      "execution_count": null,
      "metadata": {
        "colab": {
          "base_uri": "https://localhost:8080/"
        },
        "id": "LaEz_B8ZOrto",
        "outputId": "70ef5d2b-4d19-47ef-9e48-119bd44e50b6"
      },
      "outputs": [
        {
          "data": {
            "text/plain": [
              "0      [False, False, False, False, False, False, Fal...\n",
              "1      [False, False, False, False, False, False, Fal...\n",
              "2      [False, False, False, False, False, False, Fal...\n",
              "3      [False, False, False, False, False, False, Fal...\n",
              "4      [False, False, False, False, False, False, Fal...\n",
              "                             ...                        \n",
              "113    [True, False, True, False, False, False, False...\n",
              "114    [False, False, False, False, False, False, Fal...\n",
              "115    [False, False, False, False, False, False, Fal...\n",
              "116    [False, False, False, False, False, False, Fal...\n",
              "117    [False, False, False, False, False, False, Fal...\n",
              "Name: graph_evaluation, Length: 118, dtype: object"
            ]
          },
          "execution_count": 92,
          "metadata": {},
          "output_type": "execute_result"
        }
      ],
      "source": [
        "users['graph_evaluation']"
      ]
    },
    {
      "cell_type": "code",
      "execution_count": null,
      "metadata": {
        "colab": {
          "base_uri": "https://localhost:8080/",
          "height": 269
        },
        "id": "WomP9LDTQYJQ",
        "outputId": "2eac093a-512c-4e24-bec7-359170bdcfd3"
      },
      "outputs": [
        {
          "data": {
            "text/html": [
              "\n",
              "  <div id=\"df-773dbf70-fadc-4bac-849c-57abd76d11f2\">\n",
              "    <div class=\"colab-df-container\">\n",
              "      <div>\n",
              "<style scoped>\n",
              "    .dataframe tbody tr th:only-of-type {\n",
              "        vertical-align: middle;\n",
              "    }\n",
              "\n",
              "    .dataframe tbody tr th {\n",
              "        vertical-align: top;\n",
              "    }\n",
              "\n",
              "    .dataframe thead th {\n",
              "        text-align: right;\n",
              "    }\n",
              "</style>\n",
              "<table border=\"1\" class=\"dataframe\">\n",
              "  <thead>\n",
              "    <tr style=\"text-align: right;\">\n",
              "      <th></th>\n",
              "      <th>0</th>\n",
              "    </tr>\n",
              "  </thead>\n",
              "  <tbody>\n",
              "    <tr>\n",
              "      <th>user</th>\n",
              "      <td>Goeree, Ron</td>\n",
              "    </tr>\n",
              "    <tr>\n",
              "      <th>profile</th>\n",
              "      <td>[50|r37980778c78::5d884a4d53183be71aee1935e9de...</td>\n",
              "    </tr>\n",
              "    <tr>\n",
              "      <th>profile_items</th>\n",
              "      <td>[50|r37980778c78::5d884a4d53183be71aee1935e9de...</td>\n",
              "    </tr>\n",
              "    <tr>\n",
              "      <th>recommended_items</th>\n",
              "      <td>[50|r37980778c78::1a73ff1dddeee3d70c0f263443c0...</td>\n",
              "    </tr>\n",
              "    <tr>\n",
              "      <th>profile_keywords</th>\n",
              "      <td>[temporal, Science Policy, systematic, fmri, e...</td>\n",
              "    </tr>\n",
              "    <tr>\n",
              "      <th>recommended_keywords</th>\n",
              "      <td>[[Neuroscience, Sociology, Developmental Biolo...</td>\n",
              "    </tr>\n",
              "    <tr>\n",
              "      <th>counter</th>\n",
              "      <td>[1, 3, 0, 1, 1, 0, 4, 2, 0, 4]</td>\n",
              "    </tr>\n",
              "  </tbody>\n",
              "</table>\n",
              "</div>\n",
              "      <button class=\"colab-df-convert\" onclick=\"convertToInteractive('df-773dbf70-fadc-4bac-849c-57abd76d11f2')\"\n",
              "              title=\"Convert this dataframe to an interactive table.\"\n",
              "              style=\"display:none;\">\n",
              "        \n",
              "  <svg xmlns=\"http://www.w3.org/2000/svg\" height=\"24px\"viewBox=\"0 0 24 24\"\n",
              "       width=\"24px\">\n",
              "    <path d=\"M0 0h24v24H0V0z\" fill=\"none\"/>\n",
              "    <path d=\"M18.56 5.44l.94 2.06.94-2.06 2.06-.94-2.06-.94-.94-2.06-.94 2.06-2.06.94zm-11 1L8.5 8.5l.94-2.06 2.06-.94-2.06-.94L8.5 2.5l-.94 2.06-2.06.94zm10 10l.94 2.06.94-2.06 2.06-.94-2.06-.94-.94-2.06-.94 2.06-2.06.94z\"/><path d=\"M17.41 7.96l-1.37-1.37c-.4-.4-.92-.59-1.43-.59-.52 0-1.04.2-1.43.59L10.3 9.45l-7.72 7.72c-.78.78-.78 2.05 0 2.83L4 21.41c.39.39.9.59 1.41.59.51 0 1.02-.2 1.41-.59l7.78-7.78 2.81-2.81c.8-.78.8-2.07 0-2.86zM5.41 20L4 18.59l7.72-7.72 1.47 1.35L5.41 20z\"/>\n",
              "  </svg>\n",
              "      </button>\n",
              "      \n",
              "  <style>\n",
              "    .colab-df-container {\n",
              "      display:flex;\n",
              "      flex-wrap:wrap;\n",
              "      gap: 12px;\n",
              "    }\n",
              "\n",
              "    .colab-df-convert {\n",
              "      background-color: #E8F0FE;\n",
              "      border: none;\n",
              "      border-radius: 50%;\n",
              "      cursor: pointer;\n",
              "      display: none;\n",
              "      fill: #1967D2;\n",
              "      height: 32px;\n",
              "      padding: 0 0 0 0;\n",
              "      width: 32px;\n",
              "    }\n",
              "\n",
              "    .colab-df-convert:hover {\n",
              "      background-color: #E2EBFA;\n",
              "      box-shadow: 0px 1px 2px rgba(60, 64, 67, 0.3), 0px 1px 3px 1px rgba(60, 64, 67, 0.15);\n",
              "      fill: #174EA6;\n",
              "    }\n",
              "\n",
              "    [theme=dark] .colab-df-convert {\n",
              "      background-color: #3B4455;\n",
              "      fill: #D2E3FC;\n",
              "    }\n",
              "\n",
              "    [theme=dark] .colab-df-convert:hover {\n",
              "      background-color: #434B5C;\n",
              "      box-shadow: 0px 1px 3px 1px rgba(0, 0, 0, 0.15);\n",
              "      filter: drop-shadow(0px 1px 2px rgba(0, 0, 0, 0.3));\n",
              "      fill: #FFFFFF;\n",
              "    }\n",
              "  </style>\n",
              "\n",
              "      <script>\n",
              "        const buttonEl =\n",
              "          document.querySelector('#df-773dbf70-fadc-4bac-849c-57abd76d11f2 button.colab-df-convert');\n",
              "        buttonEl.style.display =\n",
              "          google.colab.kernel.accessAllowed ? 'block' : 'none';\n",
              "\n",
              "        async function convertToInteractive(key) {\n",
              "          const element = document.querySelector('#df-773dbf70-fadc-4bac-849c-57abd76d11f2');\n",
              "          const dataTable =\n",
              "            await google.colab.kernel.invokeFunction('convertToInteractive',\n",
              "                                                     [key], {});\n",
              "          if (!dataTable) return;\n",
              "\n",
              "          const docLinkHtml = 'Like what you see? Visit the ' +\n",
              "            '<a target=\"_blank\" href=https://colab.research.google.com/notebooks/data_table.ipynb>data table notebook</a>'\n",
              "            + ' to learn more about interactive tables.';\n",
              "          element.innerHTML = '';\n",
              "          dataTable['output_type'] = 'display_data';\n",
              "          await google.colab.output.renderOutput(dataTable, element);\n",
              "          const docLink = document.createElement('div');\n",
              "          docLink.innerHTML = docLinkHtml;\n",
              "          element.appendChild(docLink);\n",
              "        }\n",
              "      </script>\n",
              "    </div>\n",
              "  </div>\n",
              "  "
            ],
            "text/plain": [
              "                                                                      0\n",
              "user                                                        Goeree, Ron\n",
              "profile               [50|r37980778c78::5d884a4d53183be71aee1935e9de...\n",
              "profile_items         [50|r37980778c78::5d884a4d53183be71aee1935e9de...\n",
              "recommended_items     [50|r37980778c78::1a73ff1dddeee3d70c0f263443c0...\n",
              "profile_keywords      [temporal, Science Policy, systematic, fmri, e...\n",
              "recommended_keywords  [[Neuroscience, Sociology, Developmental Biolo...\n",
              "counter                                  [1, 3, 0, 1, 1, 0, 4, 2, 0, 4]"
            ]
          },
          "execution_count": 65,
          "metadata": {},
          "output_type": "execute_result"
        }
      ],
      "source": [
        "users.loc[0].to_frame()"
      ]
    },
    {
      "cell_type": "code",
      "execution_count": null,
      "metadata": {
        "id": "AO8zet5JRsr4"
      },
      "outputs": [],
      "source": [
        ""
      ]
    },
    {
      "cell_type": "markdown",
      "metadata": {
        "id": "EEE48K1shPeS"
      },
      "source": [
        "## Hit_rate OLD"
      ]
    },
    {
      "cell_type": "code",
      "execution_count": null,
      "metadata": {
        "id": "pRkDd1BKhOKb"
      },
      "outputs": [],
      "source": [
        "def hit_rate(row):\n",
        "  for item in row[\"recommended_items\"]:\n",
        "    if item == row['leave_one_cv']:\n",
        "      return 1\n",
        "  return 0 \n"
      ]
    },
    {
      "cell_type": "code",
      "execution_count": null,
      "metadata": {
        "id": "Ex_Qs8MVhXgC"
      },
      "outputs": [],
      "source": [
        "users['hit_rate'] = users.apply(lambda x:hit_rate(x),axis=1)"
      ]
    },
    {
      "cell_type": "code",
      "execution_count": null,
      "metadata": {
        "colab": {
          "base_uri": "https://localhost:8080/"
        },
        "id": "9OR8eNPVl0jx",
        "outputId": "5b1bd718-771f-4a57-850b-7104b1d5052c"
      },
      "outputs": [
        {
          "data": {
            "text/plain": [
              "0.30033003300330036"
            ]
          },
          "execution_count": 47,
          "metadata": {},
          "output_type": "execute_result"
        }
      ],
      "source": [
        "users['hit_rate'].mean()"
      ]
    },
    {
      "cell_type": "code",
      "execution_count": null,
      "metadata": {
        "id": "V2KfZh7Pjt5J"
      },
      "outputs": [],
      "source": [
        ""
      ]
    }
  ],
  "metadata": {
    "colab": {
      "collapsed_sections": [
        "QFotztbH-Yzx",
        "TJct1LgJpTRf",
        "GF_iUORSO__m",
        "sMDOe-I271jh",
        "4mXBf33v8x4g",
        "MHgCVPCZ84Kb",
        "KcquKogEcDyu",
        "xhEpXq3WjIo_",
        "2JVOPHmHpG4E",
        "ru8bFlbQD26S",
        "EEE48K1shPeS"
      ],
      "name": "artifacts_Doc2Vec.ipynb",
      "provenance": [],
      "include_colab_link": true
    },
    "kernelspec": {
      "display_name": "Python 3",
      "name": "python3"
    },
    "language_info": {
      "name": "python"
    }
  },
  "nbformat": 4,
  "nbformat_minor": 0
}