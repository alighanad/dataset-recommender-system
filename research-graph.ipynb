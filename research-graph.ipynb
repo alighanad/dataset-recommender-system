{
 "cells": [
  {
   "cell_type": "code",
   "execution_count": null,
   "metadata": {},
   "outputs": [],
   "source": [
    "%pyspark\n",
    "#Loading the Pyspark and building the Session\n",
    "from pyspark.sql import SparkSession\n",
    "spark = SparkSession.builder.appName('relation_recommender').getOrCreate()\n",
    "spark = SparkSession.builder.appName('relation_recommender').getOrCreate()\n",
    "df = spark.read.json(\"/data/openaire_graph/relation/part-00540-b28ab737-0908-4240-b35d-dd473d0fd5b6-c000.json.gz\")\n",
    "#Exploring the data\n",
    "df.columns\n",
    "#Cleaning the data\n",
    "df = df.drop(\"subRelType\",\"relType\",\"relClass\",\"properties\",\"lastupdatetimestamp\",\"dataInfo\",\"collectedfrom\",\"validationDate\",\"validated\")\n",
    "\n",
    "#Combining the source and target into one column\n",
    "from pyspark.sql.functions import array, explode\n",
    "\n",
    "df2 = df.select(explode(array(\"source\", \"target\")).alias(\"id\")).dropDuplicates()\n",
    "from pyspark.sql.functions import monotonically_increasing_id\n",
    "\n",
    "# This will return a new DF with all the columns + id\n",
    "res = df2.withColumn(\"new_id\", monotonically_increasing_id())"
   ]
  }
 ],
 "metadata": {
  "kernelspec": {
   "display_name": "Python 3",
   "language": "python",
   "name": "python3"
  },
  "language_info": {
   "codemirror_mode": {
    "name": "ipython",
    "version": 3
   },
   "file_extension": ".py",
   "mimetype": "text/x-python",
   "name": "python",
   "nbconvert_exporter": "python",
   "pygments_lexer": "ipython3",
   "version": "3.7.4"
  }
 },
 "nbformat": 4,
 "nbformat_minor": 4
}
